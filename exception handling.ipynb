{
 "cells": [
  {
   "cell_type": "code",
   "execution_count": 1,
   "metadata": {},
   "outputs": [
    {
     "name": "stdout",
     "output_type": "stream",
     "text": [
      "Find an error !!\n",
      "Go forward please !!\n"
     ]
    }
   ],
   "source": [
    "\n",
    "a = 10\n",
    "b = 0\n",
    "\n",
    "try :\n",
    "    print(a/b)\n",
    "    \n",
    "except :\n",
    "    print(\"Find an error !!\")\n",
    "    \n",
    "finally :\n",
    "    print(\"Go forward please !!\")\n",
    "    \n",
    "\n",
    "    "
   ]
  },
  {
   "cell_type": "code",
   "execution_count": 2,
   "metadata": {},
   "outputs": [
    {
     "name": "stdout",
     "output_type": "stream",
     "text": [
      "2.0\n",
      "Go forward please !!\n"
     ]
    }
   ],
   "source": [
    "a = 10\n",
    "b = 5\n",
    "\n",
    "try :\n",
    "    print(a/b)\n",
    "    \n",
    "except :\n",
    "    print(\"Find an error !!\")            # Finds no exception, so don't go to except\n",
    "    \n",
    "finally :\n",
    "    print(\"Go forward please !!\")\n",
    "    "
   ]
  },
  {
   "cell_type": "code",
   "execution_count": 10,
   "metadata": {},
   "outputs": [
    {
     "name": "stdout",
     "output_type": "stream",
     "text": [
      "Hope it will be printed !!\n",
      "2.0\n",
      "Enter a number : abc\n",
      "Find an error !!\n",
      "Another error !!\n",
      "Go forward please !!\n"
     ]
    }
   ],
   "source": [
    "a = 10\n",
    "b = 5\n",
    "\n",
    "try :\n",
    "    print(\"Hope it will be printed !!\")\n",
    "    print(a/b)\n",
    "    n= int(input(\"Enter a number : \"))\n",
    "    \n",
    "except :\n",
    "    print(\"Find an error !!\")\n",
    "\n",
    "    print(\"Another error !!\")\n",
    "    \n",
    "finally :\n",
    "    print(\"Go forward please !!\")\n",
    "    "
   ]
  },
  {
   "cell_type": "code",
   "execution_count": 8,
   "metadata": {},
   "outputs": [
    {
     "name": "stdout",
     "output_type": "stream",
     "text": [
      "Hope it will be printed !!\n",
      "2.0\n",
      "Enter a number : 5\n",
      "Good Bye !!!!\n"
     ]
    }
   ],
   "source": [
    "a = 10\n",
    "b = 5\n",
    "\n",
    "try :\n",
    "    print(\"Hope it will be printed !!\")\n",
    "    print(a/b)\n",
    "    n= int(input(\"Enter a number : \"))\n",
    "    \n",
    "except :\n",
    "    print(\"Find an error !!\")\n",
    "    print(\"Another error !!\")\n",
    "    \n",
    "finally :\n",
    "    print(\"Good Bye !!!!\")\n",
    "    "
   ]
  },
  {
   "cell_type": "code",
   "execution_count": 4,
   "metadata": {},
   "outputs": [
    {
     "name": "stdout",
     "output_type": "stream",
     "text": [
      "[1, 'Did not get gold', 'Did not get gold', 10, 'Did not get gold', 46]\n"
     ]
    }
   ],
   "source": [
    "gold = {\"US\":46, \"Fiji\":1, \"Great Britain\":27, \"Cuba\":5, \"Thailand\":2, \"China\":26, \"France\":10}\n",
    "country = [\"Fiji\", \"Chile\", \"Mexico\", \"France\", \"Norway\", \"US\"]\n",
    "country_gold = []\n",
    "\n",
    "\n",
    "for x in country:\n",
    "    try :        \n",
    "        country_gold.append(gold[x])\n",
    "    except Exception:\n",
    "        country_gold.append(\"Did not get gold\")\n",
    "        \n",
    "print(country_gold)\n",
    "        \n"
   ]
  },
  {
   "cell_type": "code",
   "execution_count": 5,
   "metadata": {},
   "outputs": [
    {
     "name": "stdout",
     "output_type": "stream",
     "text": [
      "Total number of puppies: 130\n"
     ]
    }
   ],
   "source": [
    "di = [{\"Puppies\": 17, 'Kittens': 9, \"Birds\": 23, 'Fish': 90, \"Hamsters\": 49}, {\"Puppies\": 23, \"Birds\": 29, \"Fish\": 20, \"Mice\": 20, \"Snakes\": 7}, {\"Fish\": 203, \"Hamsters\": 93, \"Snakes\": 25, \"Kittens\": 89}, {\"Birds\": 20, \"Puppies\": 90, \"Snakes\": 21, \"Fish\": 10, \"Kittens\": 67}]\n",
    "total = 0\n",
    "for diction in di:\n",
    "    try:\n",
    "        total = total + diction['Puppies']\n",
    "    except:\n",
    "        pass\n",
    "\n",
    "print(\"Total number of puppies:\", total)"
   ]
  },
  {
   "cell_type": "code",
   "execution_count": 6,
   "metadata": {},
   "outputs": [
    {
     "name": "stdout",
     "output_type": "stream",
     "text": [
      "[0, 'Error', 0, 4, 0, 0, 'Error', 0, 36, 'Error', 36, 'Error', 0, 13]\n"
     ]
    }
   ],
   "source": [
    "numb = [6, 0, 36, 8, 2, 36, 0, 12, 60, 0, 45, 0, 3, 23]\n",
    "\n",
    "remainder = []\n",
    "\n",
    "for i in numb:\n",
    "    try:\n",
    "        remainder.append(36%i)\n",
    "    except:\n",
    "        remainder.append(\"Error\")\n",
    "        \n",
    "print(remainder)"
   ]
  },
  {
   "cell_type": "code",
   "execution_count": 7,
   "metadata": {},
   "outputs": [
    {
     "name": "stdout",
     "output_type": "stream",
     "text": [
      "Total number of puppies: 130\n"
     ]
    }
   ],
   "source": [
    "# if \"Puppies\" not in the diction, then add it and set value = 0. Finaaly print total\n",
    "\n",
    "di = [{\"Puppies\": 17, 'Kittens': 9, \"Birds\": 23, 'Fish': 90, \"Hamsters\": 49}, {\"Puppies\": 23, \"Birds\": 29, \"Fish\": 20, \"Mice\": 20, \"Snakes\": 7}, {\"Fish\": 203, \"Hamsters\": 93, \"Snakes\": 25, \"Kittens\": 89}, {\"Birds\": 20, \"Puppies\": 90, \"Snakes\": 21, \"Fish\": 10, \"Kittens\": 67}]\n",
    "total = 0\n",
    "for diction in di:\n",
    "    try:\n",
    "        if \"Puppies\" not in diction.keys():\n",
    "            diction['Puppies'] = 0\n",
    "        total = total + diction['Puppies']\n",
    "    except:\n",
    "        pass\n",
    "        \n",
    "\n",
    "print(\"Total number of puppies:\", total)"
   ]
  },
  {
   "cell_type": "code",
   "execution_count": null,
   "metadata": {},
   "outputs": [],
   "source": []
  }
 ],
 "metadata": {
  "kernelspec": {
   "display_name": "Python 3",
   "language": "python",
   "name": "python3"
  },
  "language_info": {
   "codemirror_mode": {
    "name": "ipython",
    "version": 3
   },
   "file_extension": ".py",
   "mimetype": "text/x-python",
   "name": "python",
   "nbconvert_exporter": "python",
   "pygments_lexer": "ipython3",
   "version": "3.7.6"
  }
 },
 "nbformat": 4,
 "nbformat_minor": 4
}
