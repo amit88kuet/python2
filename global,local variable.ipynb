{
 "cells": [
  {
   "cell_type": "code",
   "execution_count": 4,
   "metadata": {},
   "outputs": [
    {
     "name": "stdout",
     "output_type": "stream",
     "text": [
      "Local variable :  100\n",
      "Local variable :  150\n",
      "Global variable :  200\n"
     ]
    }
   ],
   "source": [
    "# Global and Local variable\n",
    "\n",
    "\n",
    "x= 200\n",
    "\n",
    "def first():\n",
    "    x= 100\n",
    "    print(\"Local variable : \",x)\n",
    "    \n",
    "def second():\n",
    "    x= 150\n",
    "    print(\"Local variable : \",x)\n",
    "    \n",
    "def third():\n",
    "    print(\"Global variable : \",x)\n",
    "    \n",
    "first()\n",
    "second()\n",
    "third()"
   ]
  },
  {
   "cell_type": "code",
   "execution_count": 5,
   "metadata": {},
   "outputs": [
    {
     "name": "stdout",
     "output_type": "stream",
     "text": [
      "Local variable :  250\n",
      "Local variable :  150\n",
      "Global variable :  250\n"
     ]
    }
   ],
   "source": [
    "# Global and Local variable\n",
    "\n",
    "\n",
    "x= 200\n",
    "\n",
    "def first():\n",
    "    global x\n",
    "    x= x+50\n",
    "    print(\"Local variable : \",x)\n",
    "    \n",
    "def second():\n",
    "    x= 150\n",
    "    print(\"Local variable : \",x)\n",
    "    \n",
    "def third():\n",
    "    print(\"Global variable : \",x)\n",
    "    \n",
    "first()\n",
    "second()\n",
    "third()"
   ]
  },
  {
   "cell_type": "code",
   "execution_count": 7,
   "metadata": {},
   "outputs": [
    {
     "name": "stdout",
     "output_type": "stream",
     "text": [
      "Local variable :  300\n",
      "Local variable :  150\n",
      "Global variable :  200\n"
     ]
    }
   ],
   "source": [
    "# Global and Local variable\n",
    "\n",
    "\n",
    "x= 200\n",
    "\n",
    "def first():\n",
    "    y= x+100\n",
    "    print(\"Local variable : \",y)\n",
    "    \n",
    "def second():\n",
    "    x= 150\n",
    "    print(\"Local variable : \",x)\n",
    "    \n",
    "def third():\n",
    "    print(\"Global variable : \",x)\n",
    "    \n",
    "first()\n",
    "second()\n",
    "third()"
   ]
  },
  {
   "cell_type": "code",
   "execution_count": 8,
   "metadata": {},
   "outputs": [
    {
     "data": {
      "text/plain": [
       "8"
      ]
     },
     "execution_count": 8,
     "metadata": {},
     "output_type": "execute_result"
    }
   ],
   "source": [
    "# default argument :\n",
    "\n",
    "def power (a, b=3) :\n",
    "    return pow(a,b)\n",
    "\n",
    "power(2)"
   ]
  },
  {
   "cell_type": "code",
   "execution_count": 9,
   "metadata": {},
   "outputs": [
    {
     "data": {
      "text/plain": [
       "16"
      ]
     },
     "execution_count": 9,
     "metadata": {},
     "output_type": "execute_result"
    }
   ],
   "source": [
    "# default argument :\n",
    "\n",
    "def power (a, b=3) :\n",
    "    return pow(a,b)\n",
    "\n",
    "power(2,4)"
   ]
  },
  {
   "cell_type": "code",
   "execution_count": null,
   "metadata": {},
   "outputs": [],
   "source": []
  }
 ],
 "metadata": {
  "kernelspec": {
   "display_name": "Python 3",
   "language": "python",
   "name": "python3"
  },
  "language_info": {
   "codemirror_mode": {
    "name": "ipython",
    "version": 3
   },
   "file_extension": ".py",
   "mimetype": "text/x-python",
   "name": "python",
   "nbconvert_exporter": "python",
   "pygments_lexer": "ipython3",
   "version": "3.7.6"
  }
 },
 "nbformat": 4,
 "nbformat_minor": 4
}
