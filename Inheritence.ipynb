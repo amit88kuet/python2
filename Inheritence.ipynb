{
 "cells": [
  {
   "cell_type": "code",
   "execution_count": 1,
   "metadata": {},
   "outputs": [
    {
     "name": "stdout",
     "output_type": "stream",
     "text": [
      "Name : Amit  Roll :  88  GPA :  3.2\n",
      "Name : Rafi  Roll :  29  GPA :  2.8\n"
     ]
    }
   ],
   "source": [
    "class student:\n",
    "    name = \" \"\n",
    "    roll = \" \"\n",
    "    gpa = \" \"\n",
    "\n",
    "    def value(self, name, roll, gpa):\n",
    "        self.name = name\n",
    "        self.roll = roll\n",
    "        self.gpa = gpa\n",
    "\n",
    "    def display(self):\n",
    "        print(f\"Name : {self.name}  Roll :  {self.roll}  GPA :  {self.gpa}\")\n",
    "\n",
    "\n",
    "std1 = student()                  # it means std1 is an object of student class to access that class\n",
    "std1.value('Amit', 88, 3.20)\n",
    "std1.display()\n",
    "\n",
    "std2 = student()\n",
    "std2.value('Rafi', 29, 2.80)\n",
    "std2.display()"
   ]
  },
  {
   "cell_type": "code",
   "execution_count": 2,
   "metadata": {},
   "outputs": [
    {
     "name": "stdout",
     "output_type": "stream",
     "text": [
      " Name :  Amit   Roll : 88   GPA : 3.2 \n",
      " Name :  Rafi   Roll : 29   GPA : 2.8 \n"
     ]
    }
   ],
   "source": [
    "class student:\n",
    "    name = \" \"\n",
    "    roll = \" \"\n",
    "    gpa = \" \"\n",
    "\n",
    "std1 = student()              # std1 is an object of student class to access that class\n",
    "std1.name = \"Amit\"\n",
    "std1.roll = 88\n",
    "std1.gpa = 3.20\n",
    "\n",
    "print( f\" Name :  {std1.name}   Roll : {std1.roll}   GPA : {std1.gpa} \")\n",
    "\n",
    "\n",
    "\n",
    "std2 = student()              # std1 is an object of student class to access that class\n",
    "std2.name = \"Rafi\"\n",
    "std2.roll = 29\n",
    "std2.gpa = 2.80\n",
    "\n",
    "print( f\" Name :  {std2.name}   Roll : {std2.roll}   GPA : {std2.gpa} \")"
   ]
  },
  {
   "cell_type": "code",
   "execution_count": 3,
   "metadata": {},
   "outputs": [
    {
     "name": "stdout",
     "output_type": "stream",
     "text": [
      "Name : Amit  Roll :  88  GPA :  3.2\n",
      "Name : Rafi  Roll :  29  GPA :  2.8\n"
     ]
    }
   ],
   "source": [
    "# Constructor\n",
    "\n",
    "class student:\n",
    "    name = \" \"\n",
    "    roll = \" \"\n",
    "    gpa = \" \"\n",
    "\n",
    "    def __init__(self, name, roll, gpa):                # init means initial\n",
    "        self.name = name                                # init defines constructor\n",
    "        self.roll = roll\n",
    "        self.gpa = gpa\n",
    "\n",
    "    def display(self):\n",
    "        print(f\"Name : {self.name}  Roll :  {self.roll}  GPA :  {self.gpa}\")\n",
    "\n",
    "\n",
    "std1 = student(\"Amit\",88,3.20)                  # it means std1 is an object of student class to access that class\n",
    "std1.display()\n",
    "\n",
    "\n",
    "std2 = student(\"Rafi\",29,2.80)\n",
    "std2.display()\n",
    "\n",
    "\n",
    "\n",
    "# the benefit of constructor is : not to call the first fuction rather just to pass the\n",
    "# parameters into the class\n"
   ]
  },
  {
   "cell_type": "code",
   "execution_count": 4,
   "metadata": {},
   "outputs": [],
   "source": [
    "class company :\n",
    "    model : \" \"\n",
    "    year  : \" \"\n",
    "    price : \" \"\n",
    "\n",
    "    def __init__(self,model,year,price):\n",
    "        self.model = model\n",
    "        self.year = year\n",
    "        self.price = price\n",
    "\n",
    "\n",
    "tata =company(\"Fessin\",2019,200000)\n",
    "tata.cc = 1500\n"
   ]
  },
  {
   "cell_type": "code",
   "execution_count": 5,
   "metadata": {},
   "outputs": [
    {
     "name": "stdout",
     "output_type": "stream",
     "text": [
      "200000\n",
      "20000000\n"
     ]
    }
   ],
   "source": [
    "class company :\n",
    "    model : \" \"\n",
    "    year  : \" \"\n",
    "    price : \" \"\n",
    "\n",
    "    def __init__(self,model,year,price):\n",
    "        self.model = model\n",
    "        self.year = year\n",
    "        self.price = price\n",
    "\n",
    "\n",
    "    def price_increase (self) :\n",
    "        self.price = (self.price *100)\n",
    "\n",
    "\n",
    "tata =company(\"Fessin\",2019,200000)\n",
    "tata.cc = 1500\n",
    "\n",
    "\n",
    "honda = company(\"Classico\",2018,100000)\n",
    "honda.cc = 1000\n",
    "\n",
    "\n",
    "print(tata.price)\n",
    "tata.price_increase()\n",
    "\n",
    "print(tata.price)\n"
   ]
  },
  {
   "cell_type": "code",
   "execution_count": 6,
   "metadata": {},
   "outputs": [
    {
     "name": "stdout",
     "output_type": "stream",
     "text": [
      "Let's enjoy the video !!\n",
      "Please take selfie !!\n",
      "Please listen a song !!\n"
     ]
    }
   ],
   "source": [
    "class phone :\n",
    "\n",
    "    def call(self):\n",
    "        print(\"Please call me !!\")\n",
    "\n",
    "    def photo(self):\n",
    "        print(\"Please take selfie !!\")\n",
    "\n",
    "    def song(self):\n",
    "        print(\"Please listen a song !!\")\n",
    "\n",
    "\n",
    "class samsung (phone) :\n",
    "\n",
    "    def video(self):\n",
    "        print(\"Let's enjoy the video !!\")\n",
    "\n",
    "\n",
    "s = samsung()\n",
    "s.video()\n",
    "s.photo()\n",
    "s.song()"
   ]
  },
  {
   "cell_type": "code",
   "execution_count": 7,
   "metadata": {},
   "outputs": [
    {
     "name": "stdout",
     "output_type": "stream",
     "text": [
      "The area of triangle is :  50.0\n",
      "The area of rectangle is :  100\n"
     ]
    }
   ],
   "source": [
    "#         Inheritence Problem (copy class)\n",
    "# a class will be shape and another two classes : triangle,rectangle\n",
    "# two classes will take features from shape class\n",
    "\n",
    "\n",
    "class shape :\n",
    "\n",
    "    def __init__(self,a,b):\n",
    "        self.a = a\n",
    "        self.b = b\n",
    "\n",
    "    def area(self):\n",
    "        print(\"Please describe the calculation\")\n",
    "\n",
    "\n",
    "class triangle(shape) :\n",
    "\n",
    "    def area(self):\n",
    "        result = 0.5* self.a *self.b\n",
    "        print(\"The area of triangle is : \",result)\n",
    "\n",
    "\n",
    "class reactangle(shape) :\n",
    "\n",
    "    def area(self):\n",
    "        result = self.a * self.b\n",
    "        print(\"The area of rectangle is : \",result)\n",
    "\n",
    "\n",
    "\n",
    "t = triangle(10,10)\n",
    "t.area()\n",
    "\n",
    "r = reactangle(10,10)\n",
    "r.area()\n",
    "\n",
    "\n",
    "#\"Please describe the calculation\" is not shown for overridding by next area function\n"
   ]
  },
  {
   "cell_type": "code",
   "execution_count": 8,
   "metadata": {},
   "outputs": [
    {
     "name": "stdout",
     "output_type": "stream",
     "text": [
      "Hi! I am from class A\n",
      "Hi! I am from class B\n",
      "Hi! I am from class C\n"
     ]
    }
   ],
   "source": [
    "# class A will be inheritted to class B and class B will be to class C\n",
    "\n",
    "\n",
    "class A :\n",
    "\n",
    "    def show(self):\n",
    "        print(\"Hi! I am from class A\")\n",
    "\n",
    "class B (A) :\n",
    "\n",
    "    def display(self):\n",
    "        print(\"Hi! I am from class B\")\n",
    "\n",
    "class C (B) :\n",
    "\n",
    "    def output(self):\n",
    "        print(\"Hi! I am from class C\")\n",
    "\n",
    "\n",
    "c1 = C()\n",
    "c1.show()\n",
    "c1.display()\n",
    "c1.output()"
   ]
  },
  {
   "cell_type": "code",
   "execution_count": 9,
   "metadata": {},
   "outputs": [
    {
     "name": "stdout",
     "output_type": "stream",
     "text": [
      "Hi! I am from class A\n",
      "Hi! I am from class B\n",
      "Hi! I am from class C\n",
      "Finally I have class A,B,C !!\n"
     ]
    }
   ],
   "source": [
    " # problem : inherit-3\n",
    "    #class A -> class B       class A -> C           B,C -> D\n",
    "\n",
    "class A:\n",
    "\n",
    "    def show(self):\n",
    "        print(\"Hi! I am from class A\")\n",
    "\n",
    "class B(A):\n",
    "\n",
    "    def display(self):\n",
    "        print(\"Hi! I am from class B\")\n",
    "\n",
    "class C(A):\n",
    "\n",
    "    def output(self):\n",
    "        print(\"Hi! I am from class C\")\n",
    "\n",
    "class D(B,C) :\n",
    "\n",
    "    def final(self):\n",
    "        print(\"Finally I have class A,B,C !!\")\n",
    "\n",
    "\n",
    "d = D()\n",
    "d.show()\n",
    "d.display()\n",
    "d.output()\n",
    "d.final()\n",
    "\n"
   ]
  },
  {
   "cell_type": "code",
   "execution_count": 10,
   "metadata": {},
   "outputs": [
    {
     "name": "stdout",
     "output_type": "stream",
     "text": [
      "Hi! I am from class A\n",
      "Hi! I am from class B\n",
      "Hi! I am from class C\n"
     ]
    }
   ],
   "source": [
    "# another solution of inherit 3 :\n",
    "\n",
    "class A :\n",
    "\n",
    "    def show(self):\n",
    "        print(\"Hi! I am from class A\")\n",
    "\n",
    "class B(A):\n",
    "\n",
    "    def display(self):\n",
    "        print(\"Hi! I am from class B\")\n",
    "\n",
    "class C(B):\n",
    "\n",
    "    def output(self):\n",
    "\n",
    "        super().show()\n",
    "        super().display()\n",
    "        print(\"Hi! I am from class C\")\n",
    "\n",
    "\n",
    "c1 = C()\n",
    "c1.output()\n",
    "\n"
   ]
  },
  {
   "cell_type": "code",
   "execution_count": 11,
   "metadata": {},
   "outputs": [
    {
     "name": "stdout",
     "output_type": "stream",
     "text": [
      "Calculating Payroll\n",
      "===================\n",
      "Payroll for: 1 - John Smith\n",
      "- Check amount: 1500\n",
      "\n",
      "Payroll for: 2 - Jane Doe\n",
      "- Check amount: 600\n",
      "\n",
      "Payroll for: 3 - Kevin Bacon\n",
      "- Check amount: 1250\n",
      "\n"
     ]
    }
   ],
   "source": [
    "# Inheritence problem\n",
    "\n",
    "class PayrollSystem :\n",
    "    def calculate_payroll(self, employees):\n",
    "        print('Calculating Payroll')\n",
    "        print('===================')\n",
    "        for employee in employees:\n",
    "            print(f'Payroll for: {employee.id} - {employee.name}')\n",
    "            print(f'- Check amount: {employee.calculate_payroll()}')\n",
    "            print('')\n",
    "\n",
    "\n",
    "class Employee:\n",
    "    def __init__(self, id, name):\n",
    "        self.id = id\n",
    "        self.name = name\n",
    "\n",
    "\n",
    "class SalaryEmployee(Employee):\n",
    "    def __init__(self, id, name, weekly_salary):\n",
    "        super().__init__(id, name)\n",
    "        self.weekly_salary = weekly_salary\n",
    "\n",
    "    def calculate_payroll(self):\n",
    "        return self.weekly_salary\n",
    "\n",
    "\n",
    "class HourlyEmployee(Employee):\n",
    "    def __init__(self, id, name, hours_worked, hour_rate):\n",
    "        super().__init__(id, name)\n",
    "        self.hours_worked = hours_worked\n",
    "        self.hour_rate = hour_rate\n",
    "\n",
    "    def calculate_payroll(self):\n",
    "        return self.hours_worked * self.hour_rate\n",
    "\n",
    "\n",
    "class CommissionEmployee(SalaryEmployee):\n",
    "    def __init__(self, id, name, weekly_salary, commission):\n",
    "        super().__init__(id, name, weekly_salary)\n",
    "        self.commission = commission\n",
    "\n",
    "    def calculate_payroll(self):\n",
    "        fixed = super().calculate_payroll()\n",
    "        return fixed + self.commission\n",
    "\n",
    "\n",
    "salary_employee = SalaryEmployee(1, 'John Smith', 1500)\n",
    "hourly_employee = HourlyEmployee(2, 'Jane Doe', 40, 15)\n",
    "commission_employee = CommissionEmployee(3, 'Kevin Bacon', 1000, 250)\n",
    "\n",
    "payroll_system = PayrollSystem()\n",
    "\n",
    "payroll_system.calculate_payroll([\n",
    "    salary_employee,\n",
    "    hourly_employee,\n",
    "    commission_employee\n",
    "])"
   ]
  },
  {
   "cell_type": "code",
   "execution_count": 12,
   "metadata": {},
   "outputs": [
    {
     "name": "stdout",
     "output_type": "stream",
     "text": [
      "The area of triangle is :  50.0\n",
      "The area of rectangle is :  100\n"
     ]
    }
   ],
   "source": [
    "# Abstraction problem :\n",
    "\n",
    "from abc import ABC, abstractmethod\n",
    "\n",
    "class shape(ABC) :\n",
    "\n",
    "    def __init__(self,a,b):\n",
    "        self.a = a\n",
    "        self.b = b\n",
    "\n",
    "    @abstractmethod\n",
    "    def area(self):            # when a function has no body only pass then it is abstract\n",
    "        pass                   # here abstractmethod to be written\n",
    "\n",
    "\n",
    "class triangle(shape) :\n",
    "\n",
    "    def area(self):\n",
    "        result = 0.5* self.a *self.b\n",
    "        print(\"The area of triangle is : \",result)\n",
    "\n",
    "class reactangle(shape) :\n",
    "\n",
    "    def area(self):\n",
    "        result = self.a * self.b\n",
    "        print(\"The area of rectangle is : \",result)\n",
    "\n",
    "t = triangle(10,10)\n",
    "t.area()\n",
    "\n",
    "r = reactangle(10,10)\n",
    "r.area()\n",
    "\n",
    "\n",
    "# N.B : we can't create the object of abstract class\n",
    "# that is : object of shape class can not be created\n"
   ]
  },
  {
   "cell_type": "code",
   "execution_count": 13,
   "metadata": {},
   "outputs": [
    {
     "name": "stdout",
     "output_type": "stream",
     "text": [
      "Please call me !!\n"
     ]
    }
   ],
   "source": [
    "# overriding\n",
    "\n",
    "class phone :\n",
    "\n",
    "    def __init__(self):\n",
    "        print(\"Please call me !!\")\n",
    "\n",
    "\n",
    "class samsung (phone) :\n",
    "    pass\n",
    "\n",
    "\n",
    "\n",
    "s = samsung()"
   ]
  },
  {
   "cell_type": "code",
   "execution_count": 14,
   "metadata": {},
   "outputs": [
    {
     "name": "stdout",
     "output_type": "stream",
     "text": [
      "Let's enjoy the video !!\n"
     ]
    }
   ],
   "source": [
    "class phone :\n",
    "\n",
    "    def __init__(self):\n",
    "        print(\"Please call me !!\")\n",
    "\n",
    "class samsung (phone) :\n",
    "\n",
    "    def __init__(self):\n",
    "        print(\"Let's enjoy the video !!\")\n",
    "\n",
    "s = samsung()"
   ]
  },
  {
   "cell_type": "code",
   "execution_count": 15,
   "metadata": {},
   "outputs": [
    {
     "name": "stdout",
     "output_type": "stream",
     "text": [
      "Please call me !!\n",
      "Let's enjoy the video !!\n"
     ]
    }
   ],
   "source": [
    "# class phone is called superclass and class samsung is called subclass\n",
    "\n",
    "class phone :\n",
    "\n",
    "    def __init__(self):\n",
    "        print(\"Please call me !!\")\n",
    "\n",
    "class samsung (phone) :\n",
    "\n",
    "    def __init__(self):\n",
    "\n",
    "        super().__init__()\n",
    "        print(\"Let's enjoy the video !!\")\n",
    "\n",
    "s = samsung()"
   ]
  },
  {
   "cell_type": "code",
   "execution_count": 16,
   "metadata": {},
   "outputs": [
    {
     "name": "stdout",
     "output_type": "stream",
     "text": [
      "4\n",
      "3\n",
      "10\n",
      "20\n"
     ]
    }
   ],
   "source": [
    "# polymorphism means the different use of same function.\n",
    "\n",
    "\n",
    "# eaxample : 1\n",
    "\n",
    "print(len(\"Amit\"))\n",
    "print(len([1,2,3]))\n",
    "\n",
    "\n",
    "# example : 2\n",
    "\n",
    "def add (x,y, z=0) :\n",
    "    return x+y+z\n",
    "\n",
    "a =add(5,5)\n",
    "b= add(4,6,10)\n",
    "\n",
    "print(a)\n",
    "print(b)"
   ]
  },
  {
   "cell_type": "code",
   "execution_count": 17,
   "metadata": {},
   "outputs": [
    {
     "name": "stdout",
     "output_type": "stream",
     "text": [
      "New Delhi is the capital of India.\n",
      "Hindi is the most widely spoken language of India.\n",
      "India is a developing country.\n",
      "Washington, D.C. is the capital of USA.\n",
      "English is the primary language of USA.\n",
      "USA is a developed country.\n"
     ]
    }
   ],
   "source": [
    "class India():\n",
    "    def capital(self):\n",
    "        print(\"New Delhi is the capital of India.\")\n",
    "\n",
    "    def language(self):\n",
    "        print(\"Hindi is the most widely spoken language of India.\")\n",
    "\n",
    "    def type(self):\n",
    "        print(\"India is a developing country.\")\n",
    "\n",
    "\n",
    "class USA():\n",
    "    def capital(self):\n",
    "        print(\"Washington, D.C. is the capital of USA.\")\n",
    "\n",
    "    def language(self):\n",
    "        print(\"English is the primary language of USA.\")\n",
    "\n",
    "    def type(self):\n",
    "        print(\"USA is a developed country.\")\n",
    "\n",
    "\n",
    "def func(obj):\n",
    "    obj.capital()\n",
    "    obj.language()\n",
    "    obj.type()\n",
    "\n",
    "\n",
    "obj_ind = India()\n",
    "obj_usa = USA()\n",
    "\n",
    "func(obj_ind)\n",
    "func(obj_usa)"
   ]
  },
  {
   "cell_type": "code",
   "execution_count": 18,
   "metadata": {},
   "outputs": [
    {
     "name": "stdout",
     "output_type": "stream",
     "text": [
      "The area is :  100.0\n",
      "The area is :  300.0\n"
     ]
    }
   ],
   "source": [
    "class triangle :\n",
    "    base  = \" \"\n",
    "    height = \" \"\n",
    "\n",
    "    def __init__(self,base,height):\n",
    "        self.base = base\n",
    "        self.height = height\n",
    "\n",
    "    def area (self) :\n",
    "\n",
    "        a = 0.5*(self.base)*(self.height)\n",
    "\n",
    "        print(\"The area is : \",a)\n",
    "\n",
    "\n",
    "t1 = triangle(10,20)\n",
    "t1.area()\n",
    "\n",
    "t2 = triangle(20,30)\n",
    "t2.area()\n",
    "\n"
   ]
  },
  {
   "cell_type": "code",
   "execution_count": 19,
   "metadata": {},
   "outputs": [
    {
     "name": "stdout",
     "output_type": "stream",
     "text": [
      "Value of a is :  10\n"
     ]
    }
   ],
   "source": [
    "# encapsulation means to wrap or prevent data from easy access\n",
    "\n",
    "\n",
    "class parent :\n",
    "\n",
    "    def prevent(self):\n",
    "        self.a = 10\n",
    "\n",
    "class child (parent) :\n",
    "\n",
    "    def show(self):\n",
    "        parent.prevent(self)               # mentionable : we call class->function to\n",
    "        print(\"Value of a is : \", self.a)   # get the value of a which is very rare case\n",
    "\n",
    "\n",
    "c = child()\n",
    "c.show()"
   ]
  },
  {
   "cell_type": "code",
   "execution_count": 20,
   "metadata": {},
   "outputs": [
    {
     "name": "stdout",
     "output_type": "stream",
     "text": [
      "Match\n"
     ]
    }
   ],
   "source": [
    "# Regular expression\n",
    "\n",
    "import re\n",
    "\n",
    "pattern = r\"colour\"\n",
    "text = \"colour is red and I love it\"\n",
    "\n",
    "if re.match(pattern, text) :              # only match the first word\n",
    "    print(\"Match\")                       # of text with the pattern\n",
    "\n",
    "else :\n",
    "    print(\"Not matched\")"
   ]
  },
  {
   "cell_type": "code",
   "execution_count": 21,
   "metadata": {},
   "outputs": [
    {
     "name": "stdout",
     "output_type": "stream",
     "text": [
      "Not matched\n"
     ]
    }
   ],
   "source": [
    "import re\n",
    "\n",
    "pattern = r\"colour\"\n",
    "text = \"red is a colour and I love it\"\n",
    "\n",
    "if re.match(pattern, text) :\n",
    "    print(\"Match\")\n",
    "\n",
    "else :\n",
    "    print(\"Not matched\")\n"
   ]
  },
  {
   "cell_type": "code",
   "execution_count": 22,
   "metadata": {},
   "outputs": [
    {
     "name": "stdout",
     "output_type": "stream",
     "text": [
      "Match\n"
     ]
    }
   ],
   "source": [
    "import re\n",
    "\n",
    "pattern = r\"colour\"\n",
    "text = \"red is a colour and I love it\"\n",
    "\n",
    "if re.search(pattern, text) :\n",
    "    print(\"Match\")\n",
    "                                  # it search whether colour is there or not in \"  \"\n",
    "else :\n",
    "    print(\"Not matched\")\n"
   ]
  },
  {
   "cell_type": "code",
   "execution_count": 23,
   "metadata": {},
   "outputs": [
    {
     "name": "stdout",
     "output_type": "stream",
     "text": [
      "['colour', 'colour']\n"
     ]
    }
   ],
   "source": [
    "import re\n",
    "\n",
    "pattern = r\"colour\"\n",
    "text = \"colour is red and I love this colour\"\n",
    "\n",
    "print (re.findall(pattern, text))\n"
   ]
  },
  {
   "cell_type": "code",
   "execution_count": 24,
   "metadata": {},
   "outputs": [
    {
     "name": "stdout",
     "output_type": "stream",
     "text": [
      "4\n",
      "10\n",
      "(4, 10)\n"
     ]
    }
   ],
   "source": [
    "# special use of search fuction :\n",
    "\n",
    "\n",
    "import re\n",
    "\n",
    "pattern = r\"colour\"\n",
    "text = \"the colour red is my favourite\"\n",
    "match = re.search(pattern,text)\n",
    "\n",
    "if match :\n",
    "    print(match.start())\n",
    "    print(match.end())          # gives the index just after ending index\n",
    "    print(match.span())"
   ]
  },
  {
   "cell_type": "code",
   "execution_count": null,
   "metadata": {},
   "outputs": [],
   "source": []
  }
 ],
 "metadata": {
  "kernelspec": {
   "display_name": "Python 3",
   "language": "python",
   "name": "python3"
  },
  "language_info": {
   "codemirror_mode": {
    "name": "ipython",
    "version": 3
   },
   "file_extension": ".py",
   "mimetype": "text/x-python",
   "name": "python",
   "nbconvert_exporter": "python",
   "pygments_lexer": "ipython3",
   "version": "3.7.6"
  }
 },
 "nbformat": 4,
 "nbformat_minor": 4
}
