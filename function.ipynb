{
 "cells": [
  {
   "cell_type": "code",
   "execution_count": 2,
   "metadata": {},
   "outputs": [
    {
     "name": "stdout",
     "output_type": "stream",
     "text": [
      "Hello Bangladesh\n"
     ]
    }
   ],
   "source": [
    "def function() :\n",
    "    print(\"Hello\")\n",
    "    print(\"Hello amit\")\n",
    "    \n",
    "print(\"Hello Bangladesh\")"
   ]
  },
  {
   "cell_type": "code",
   "execution_count": 3,
   "metadata": {},
   "outputs": [
    {
     "name": "stdout",
     "output_type": "stream",
     "text": [
      "Hello\n",
      "Hello amit\n",
      "Hello Bangladesh\n"
     ]
    }
   ],
   "source": [
    "def function() :\n",
    "    print(\"Hello\")\n",
    "    print(\"Hello amit\")\n",
    "    \n",
    "function()\n",
    "    \n",
    "print(\"Hello Bangladesh\")"
   ]
  },
  {
   "cell_type": "code",
   "execution_count": 4,
   "metadata": {},
   "outputs": [
    {
     "name": "stdout",
     "output_type": "stream",
     "text": [
      "Hello Bangladesh\n",
      "Hello\n",
      "Hello amit\n"
     ]
    }
   ],
   "source": [
    "def function() :\n",
    "    print(\"Hello\")\n",
    "    print(\"Hello amit\")\n",
    "    \n",
    "print(\"Hello Bangladesh\")\n",
    "\n",
    "function()"
   ]
  },
  {
   "cell_type": "code",
   "execution_count": 7,
   "metadata": {},
   "outputs": [
    {
     "name": "stdout",
     "output_type": "stream",
     "text": [
      "20\n",
      "Great !!\n"
     ]
    }
   ],
   "source": [
    "def function(put_value) :\n",
    "    print(put_value)\n",
    "    print(\"Great !!\")\n",
    "    \n",
    "put_value =function(20)"
   ]
  },
  {
   "cell_type": "code",
   "execution_count": 9,
   "metadata": {},
   "outputs": [
    {
     "name": "stdout",
     "output_type": "stream",
     "text": [
      "put_value\n",
      "Great !!\n"
     ]
    }
   ],
   "source": [
    "def function(put_value) :\n",
    "    print(\"put_value\")\n",
    "    print(\"Great !!\")\n",
    "    \n",
    "put_value =function(20)"
   ]
  },
  {
   "cell_type": "code",
   "execution_count": 11,
   "metadata": {},
   "outputs": [
    {
     "name": "stdout",
     "output_type": "stream",
     "text": [
      "100\n"
     ]
    }
   ],
   "source": [
    "def function(x):\n",
    "    return 10*x\n",
    "\n",
    "result= function(10)\n",
    "\n",
    "print(result)"
   ]
  },
  {
   "cell_type": "code",
   "execution_count": 12,
   "metadata": {},
   "outputs": [
    {
     "name": "stdout",
     "output_type": "stream",
     "text": [
      "Result =  20\n"
     ]
    }
   ],
   "source": [
    "def function (x,y):\n",
    "    return x+y\n",
    "\n",
    "result= function (10,10)\n",
    "\n",
    "print(\"Result = \",result)"
   ]
  },
  {
   "cell_type": "code",
   "execution_count": 13,
   "metadata": {},
   "outputs": [
    {
     "name": "stdout",
     "output_type": "stream",
     "text": [
      "Result =  20\n",
      "Result =  30\n",
      "Result =  60\n",
      "Result =  70\n"
     ]
    }
   ],
   "source": [
    "def function (x,y):\n",
    "    return x+y\n",
    "\n",
    "result1= function (10,10)\n",
    "print(\"Result = \",result1)\n",
    "\n",
    "result2= function (20,10)\n",
    "print(\"Result = \",result2)\n",
    "\n",
    "result3= function (30,30)\n",
    "print(\"Result = \",result3)\n",
    "\n",
    "result4= function (30,40)\n",
    "print(\"Result = \",result4)"
   ]
  },
  {
   "cell_type": "code",
   "execution_count": 16,
   "metadata": {},
   "outputs": [
    {
     "name": "stdout",
     "output_type": "stream",
     "text": [
      "Sum =  20\n",
      "Subtraction =  10\n",
      "Multiplication =  100\n",
      "Division =  2.0\n"
     ]
    }
   ],
   "source": [
    "def add (x,y):\n",
    "    return x+y\n",
    "\n",
    "result1= add (10,10)\n",
    "print(\"Sum = \",result1)\n",
    "\n",
    "def sub (x,y):\n",
    "    return x-y\n",
    "\n",
    "\n",
    "result2= sub (20,10)\n",
    "print(\"Subtraction = \",result2)\n",
    "\n",
    "def mul (x,y):\n",
    "    return x*y\n",
    "\n",
    "result3= mul (10,10)\n",
    "print(\"Multiplication = \",result3)\n",
    "\n",
    "def div (x,y):\n",
    "    return x/y\n",
    "\n",
    "result4= div (100,50)\n",
    "print(\"Division = \",result4)\n",
    "\n"
   ]
  },
  {
   "cell_type": "code",
   "execution_count": 2,
   "metadata": {},
   "outputs": [
    {
     "name": "stdout",
     "output_type": "stream",
     "text": [
      "I am from - India\n",
      "I am from - America\n",
      "I am from - England\n",
      "I am from - Canada\n"
     ]
    }
   ],
   "source": [
    "\n",
    "def hello (country = \"Bangladesh\") :\n",
    "    \n",
    "    print(\"I am from - \" +country)\n",
    "    \n",
    "country =hello(\"India\")\n",
    "country =hello(\"America\")\n",
    "country =hello(\"England\")\n",
    "country =hello(\"Canada\")"
   ]
  },
  {
   "cell_type": "code",
   "execution_count": 3,
   "metadata": {},
   "outputs": [
    {
     "name": "stdout",
     "output_type": "stream",
     "text": [
      "25\n"
     ]
    }
   ],
   "source": [
    "# Lambda function :\n",
    "\n",
    "x= lambda a : a+20\n",
    "\n",
    "print(x(5))"
   ]
  },
  {
   "cell_type": "code",
   "execution_count": 4,
   "metadata": {},
   "outputs": [
    {
     "name": "stdout",
     "output_type": "stream",
     "text": [
      "30\n"
     ]
    }
   ],
   "source": [
    "# Lambda function :\n",
    "\n",
    "x= lambda a,b : a*b\n",
    "\n",
    "print(x(5,6))"
   ]
  },
  {
   "cell_type": "code",
   "execution_count": 6,
   "metadata": {},
   "outputs": [
    {
     "name": "stdout",
     "output_type": "stream",
     "text": [
      "50\n"
     ]
    }
   ],
   "source": [
    "# best example of lambda function :\n",
    "\n",
    "\n",
    "\n",
    "def smile(n):\n",
    "\n",
    "    return lambda a : a*n\n",
    "\n",
    "laugh = smile(10)\n",
    "\n",
    "print(laugh(5))"
   ]
  },
  {
   "cell_type": "code",
   "execution_count": 8,
   "metadata": {},
   "outputs": [
    {
     "name": "stdout",
     "output_type": "stream",
     "text": [
      "50\n",
      "100\n"
     ]
    }
   ],
   "source": [
    "def smile(n):\n",
    "\n",
    "    return lambda a : a*n\n",
    "\n",
    "laugh = smile(10)\n",
    "happy = smile(20)\n",
    "\n",
    "print(laugh(5))\n",
    "print(happy(5))"
   ]
  },
  {
   "cell_type": "code",
   "execution_count": 15,
   "metadata": {},
   "outputs": [
    {
     "name": "stdout",
     "output_type": "stream",
     "text": [
      "Machine Learning\n",
      "Python\n",
      "None\n",
      "None\n"
     ]
    }
   ],
   "source": [
    "\n",
    "def func (n) :\n",
    "    def func1() :\n",
    "        return \"Data Science\"\n",
    "    def func2() :\n",
    "        return \"Artificial Intelligence\"\n",
    "    \n",
    "    if n==1 :\n",
    "        print(\"Machine Learning\")\n",
    "        \n",
    "    else :\n",
    "        print(\"Python\")\n",
    "        \n",
    "a = func(1)\n",
    "b = func(2)\n",
    "print(a)\n",
    "print(b)"
   ]
  },
  {
   "cell_type": "code",
   "execution_count": 13,
   "metadata": {},
   "outputs": [
    {
     "name": "stdout",
     "output_type": "stream",
     "text": [
      "Data Science\n",
      "Artificial Intelligence\n"
     ]
    }
   ],
   "source": [
    "def func (n) :\n",
    "    def func1() :\n",
    "        return \"Data Science\"\n",
    "    def func2() :\n",
    "        return \"Artificial Intelligence\"\n",
    "    \n",
    "    if n==1 :\n",
    "        return func1()\n",
    "        \n",
    "    else :\n",
    "        return func2()\n",
    "        \n",
    "a = func(1)\n",
    "b = func(2)\n",
    "print(a)\n",
    "print(b)"
   ]
  },
  {
   "cell_type": "code",
   "execution_count": 1,
   "metadata": {},
   "outputs": [
    {
     "name": "stdout",
     "output_type": "stream",
     "text": [
      "[5, 10, 15, 20, 25]\n"
     ]
    }
   ],
   "source": [
    "# print a list by multiplicating numbers by 5 where a blank list is given :\n",
    "\n",
    "\n",
    "def mul(n) :\n",
    "    return n*5\n",
    "\n",
    "result = []\n",
    "n =[1,2,3,4,5]\n",
    "\n",
    "for i in n :\n",
    "    result.append(mul(i))\n",
    "    \n",
    "print(result)"
   ]
  },
  {
   "cell_type": "code",
   "execution_count": 9,
   "metadata": {},
   "outputs": [
    {
     "data": {
      "text/plain": [
       "31"
      ]
     },
     "execution_count": 9,
     "metadata": {},
     "output_type": "execute_result"
    }
   ],
   "source": [
    "def simpleArraySum(ar) :\n",
    "    \n",
    "    a=6\n",
    "    sum=0\n",
    "    for i in range (0,a) :\n",
    "        sum= sum+ar[i]\n",
    "\n",
    "    return sum\n",
    "\n",
    "\n",
    "ar =[1,2,3,4,10,11]\n",
    "simpleArraySum(ar)"
   ]
  },
  {
   "cell_type": "code",
   "execution_count": 3,
   "metadata": {},
   "outputs": [
    {
     "data": {
      "text/plain": [
       "31"
      ]
     },
     "execution_count": 3,
     "metadata": {},
     "output_type": "execute_result"
    }
   ],
   "source": [
    "def simpleArraySum(ar) :\n",
    "    \n",
    "    sum=0\n",
    "    for i in ar :\n",
    "        sum = sum+i\n",
    "\n",
    "    return sum\n",
    "\n",
    "a =6\n",
    "\n",
    "ar =[1,2,3,4,10,11]\n",
    "\n",
    "simpleArraySum(ar)"
   ]
  },
  {
   "cell_type": "code",
   "execution_count": 13,
   "metadata": {},
   "outputs": [
    {
     "name": "stdout",
     "output_type": "stream",
     "text": [
      "Enter total element number :6\n",
      "Array input : 1\n",
      "Array input : 2\n",
      "Array input : 3\n",
      "Array input : 4\n",
      "Array input : 10\n",
      "Array input : 11\n"
     ]
    },
    {
     "data": {
      "text/plain": [
       "31"
      ]
     },
     "execution_count": 13,
     "metadata": {},
     "output_type": "execute_result"
    }
   ],
   "source": [
    "# summation of an array using function\n",
    "\n",
    "\n",
    "n= int(input(\"Enter total element number :\"))\n",
    "array = [ int(input(\"Array input : \"))     for i in range(n) ]\n",
    "\n",
    "def summation(array) :\n",
    "    \n",
    "    sum=0\n",
    "    for i in array :\n",
    "        sum = sum+i\n",
    "\n",
    "    return sum\n",
    "\n",
    "\n",
    "\n",
    "summation(array)\n"
   ]
  },
  {
   "cell_type": "code",
   "execution_count": null,
   "metadata": {},
   "outputs": [],
   "source": []
  }
 ],
 "metadata": {
  "kernelspec": {
   "display_name": "Python 3",
   "language": "python",
   "name": "python3"
  },
  "language_info": {
   "codemirror_mode": {
    "name": "ipython",
    "version": 3
   },
   "file_extension": ".py",
   "mimetype": "text/x-python",
   "name": "python",
   "nbconvert_exporter": "python",
   "pygments_lexer": "ipython3",
   "version": "3.7.6"
  }
 },
 "nbformat": 4,
 "nbformat_minor": 4
}
