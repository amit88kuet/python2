{
 "cells": [
  {
   "cell_type": "code",
   "execution_count": 4,
   "metadata": {},
   "outputs": [
    {
     "name": "stdout",
     "output_type": "stream",
     "text": [
      "[[1 2 3 4 5]\n",
      " [5 6 7 8 9]]\n"
     ]
    }
   ],
   "source": [
    "import numpy\n",
    "\n",
    "array1 =numpy.array([\n",
    "              \n",
    "              [1,2,3,4,5],\n",
    "              [5,6,7,8,9]\n",
    "])\n",
    "\n",
    "print(array1)"
   ]
  },
  {
   "cell_type": "code",
   "execution_count": 8,
   "metadata": {},
   "outputs": [
    {
     "name": "stdout",
     "output_type": "stream",
     "text": [
      "int32\n",
      "2\n",
      "(2, 5)\n",
      "10\n"
     ]
    }
   ],
   "source": [
    "import numpy\n",
    "\n",
    "array1 =numpy.array([\n",
    "              \n",
    "              [1,2,3,4,5],\n",
    "              [5,6,7,8,9]\n",
    "])\n",
    "\n",
    "print(array1.dtype)\n",
    "print(array1.ndim)\n",
    "print(array1.shape)\n",
    "print(array1.size)"
   ]
  },
  {
   "cell_type": "code",
   "execution_count": 9,
   "metadata": {},
   "outputs": [
    {
     "name": "stdout",
     "output_type": "stream",
     "text": [
      "[[1 2 3 4 5]\n",
      " [5 6 7 8 9]]\n"
     ]
    }
   ],
   "source": [
    "from numpy import * \n",
    "\n",
    "array1 =array([\n",
    "              \n",
    "              [1,2,3,4,5],\n",
    "              [5,6,7,8,9]\n",
    "])\n",
    "\n",
    "print(array1)"
   ]
  },
  {
   "cell_type": "code",
   "execution_count": 22,
   "metadata": {},
   "outputs": [
    {
     "name": "stdout",
     "output_type": "stream",
     "text": [
      "One dimensional form :  [1 2 3 4 5 6 5 6 7 8 9 5]\n",
      "Two dimensional form :  [[1 2 3 4]\n",
      " [5 6 5 6]\n",
      " [7 8 9 5]]\n",
      "Three dimensional form :  [[[1 2 3]\n",
      "  [4 5 6]]\n",
      "\n",
      " [[5 6 7]\n",
      "  [8 9 5]]]\n",
      "Dimension is :  3\n"
     ]
    }
   ],
   "source": [
    "from numpy import * \n",
    "\n",
    "array1 =array([\n",
    "              \n",
    "              [1,2,3,4,5,6],\n",
    "              [5,6,7,8,9,5]\n",
    "])\n",
    "\n",
    "array2 = array1.flatten()            # flatten() is used to make it one dimensional\n",
    "print(\"One dimensional form : \",array2)\n",
    "\n",
    "\n",
    "array3= array2.reshape(3,4)          # make it two dimensional\n",
    "print(\"Two dimensional form : \",array3)\n",
    "\n",
    "\n",
    "array4 = array2.reshape(2,2,3)        # make it three dimensional\n",
    "print (\"Three dimensional form : \",array4)\n",
    "\n",
    "array5=array4.ndim\n",
    "print(\"Dimension is : \" ,array5)      # check its dimension"
   ]
  },
  {
   "cell_type": "code",
   "execution_count": 19,
   "metadata": {},
   "outputs": [
    {
     "name": "stdout",
     "output_type": "stream",
     "text": [
      "[1 2 3 4 5 5 6 7 8 9]\n",
      "[[1 2 3 4 5]\n",
      " [5 6 7 8 9]]\n",
      "[[[1 2 3 4 5]\n",
      "  [5 6 7 8 9]]]\n",
      "Dimension is :  3\n"
     ]
    }
   ],
   "source": [
    "from numpy import * \n",
    "\n",
    "array1 =array([\n",
    "              \n",
    "              [1,2,3,4,5],\n",
    "              [5,6,7,8,9]\n",
    "])\n",
    "\n",
    "array2 = array1.flatten()            # flatten() is used to make it one dimensional\n",
    "print(array2)\n",
    "\n",
    "\n",
    "array3= array2.reshape(2,5)          # make it two dimensional\n",
    "print(array3)\n",
    "\n",
    "\n",
    "array4 = array2.reshape(1,2,5)        # make it three dimensional\n",
    "print (array4)\n",
    "\n",
    "array5=array4.ndim\n",
    "print(\"Dimension is : \" ,array5)      # check its dimension"
   ]
  },
  {
   "cell_type": "code",
   "execution_count": null,
   "metadata": {},
   "outputs": [],
   "source": []
  }
 ],
 "metadata": {
  "kernelspec": {
   "display_name": "Python 3",
   "language": "python",
   "name": "python3"
  },
  "language_info": {
   "codemirror_mode": {
    "name": "ipython",
    "version": 3
   },
   "file_extension": ".py",
   "mimetype": "text/x-python",
   "name": "python",
   "nbconvert_exporter": "python",
   "pygments_lexer": "ipython3",
   "version": "3.7.6"
  }
 },
 "nbformat": 4,
 "nbformat_minor": 4
}
