{
 "cells": [
  {
   "cell_type": "code",
   "execution_count": 1,
   "metadata": {},
   "outputs": [
    {
     "name": "stdout",
     "output_type": "stream",
     "text": [
      "[1, 2, 3, 4, 2, 3, 4, 5]\n"
     ]
    }
   ],
   "source": [
    "list1 =[1,2,3,4]\n",
    "list2 =[2,3,4,5]\n",
    "\n",
    "a= list1 +list2\n",
    "print(a)"
   ]
  },
  {
   "cell_type": "code",
   "execution_count": 3,
   "metadata": {},
   "outputs": [
    {
     "name": "stdout",
     "output_type": "stream",
     "text": [
      "[('amit', 20), ('raj', 21), ('sufi', 22), ('rafi', 23), ('saeed', 24)]\n"
     ]
    }
   ],
   "source": [
    "# zip function is used to combine two lists\n",
    "\n",
    "name =[\"amit\",\"raj\",\"sufi\",\"rafi\",\"saeed\"]\n",
    "age = [20,21,22,23,24]\n",
    "\n",
    "combined = list(zip(name,age))      \n",
    "print(combined)"
   ]
  },
  {
   "cell_type": "code",
   "execution_count": 6,
   "metadata": {},
   "outputs": [
    {
     "name": "stdout",
     "output_type": "stream",
     "text": [
      "[('amit', 'raj', 'sufi', 'rafi', 'saeed'), (20, 21, 22, 23, 24)]\n",
      "name =  ('amit', 'raj', 'sufi', 'rafi', 'saeed')\n",
      "age =  (20, 21, 22, 23, 24)\n"
     ]
    }
   ],
   "source": [
    "# now to unzip or to separate :\n",
    "\n",
    "\n",
    "combined = [('amit', 20), ('raj', 21), ('sufi', 22), ('rafi', 23), ('saeed', 24)]\n",
    "\n",
    "unzip = list(zip(*combined))\n",
    "\n",
    "print(unzip)\n",
    "\n",
    "print(\"name = \",unzip[0])\n",
    "print(\"age = \",unzip[1])\n"
   ]
  },
  {
   "cell_type": "code",
   "execution_count": 8,
   "metadata": {},
   "outputs": [
    {
     "name": "stdout",
     "output_type": "stream",
     "text": [
      "[5, 10, 15, 20, 25]\n"
     ]
    }
   ],
   "source": [
    "# print a list by multiplicating numbers by 5 :\n",
    "# using map function \n",
    "\n",
    "\n",
    "def mul(n) :\n",
    "    return n*5\n",
    "\n",
    "n =[1,2,3,4,5]\n",
    "\n",
    "result =list(map(mul, n))\n",
    "print(result)"
   ]
  },
  {
   "cell_type": "code",
   "execution_count": 2,
   "metadata": {},
   "outputs": [
    {
     "name": "stdout",
     "output_type": "stream",
     "text": [
      "[5, 8, 9, 8, 5]\n"
     ]
    }
   ],
   "source": [
    "# map function :               # two lists as input\n",
    "\n",
    "def mul (a,b):\n",
    "    return a*b\n",
    "\n",
    "a= [1,2,3,4,5]\n",
    "b= [5,4,3,2,1]\n",
    "\n",
    "result = list(map(mul, a,b))\n",
    "print(result)"
   ]
  },
  {
   "cell_type": "code",
   "execution_count": 3,
   "metadata": {},
   "outputs": [
    {
     "name": "stdout",
     "output_type": "stream",
     "text": [
      "[4, 5, 6, 7, 8]\n"
     ]
    }
   ],
   "source": [
    "# map function :\n",
    "\n",
    "a= [1,2,3,4,5]\n",
    "\n",
    "result =list(map(lambda x : x+3, a))\n",
    "print(result)"
   ]
  },
  {
   "cell_type": "code",
   "execution_count": 10,
   "metadata": {},
   "outputs": [
    {
     "name": "stdout",
     "output_type": "stream",
     "text": [
      "[7, 9]\n"
     ]
    }
   ],
   "source": [
    "# filter function :\n",
    "\n",
    "a =[1,2,3,5,7,9]\n",
    "\n",
    "result = list(filter(lambda n : n>5 , a ))            # filter(function,iterable number)\n",
    "print(result)"
   ]
  },
  {
   "cell_type": "code",
   "execution_count": 4,
   "metadata": {},
   "outputs": [
    {
     "name": "stdout",
     "output_type": "stream",
     "text": [
      "[5, 6, 8]\n"
     ]
    }
   ],
   "source": [
    "# filter function :\n",
    "\n",
    "def greater (a) :\n",
    "    if a>2 :\n",
    "        return a\n",
    "    \n",
    "a= [2,1,5,6,8]\n",
    "\n",
    "result =list(filter(greater, a))\n",
    "print(result)"
   ]
  },
  {
   "cell_type": "code",
   "execution_count": 6,
   "metadata": {},
   "outputs": [
    {
     "name": "stdout",
     "output_type": "stream",
     "text": [
      "(2, 1, 5)\n"
     ]
    }
   ],
   "source": [
    "# filter function :\n",
    "\n",
    "def smaller (a) :\n",
    "    if a<6 :\n",
    "        return a\n",
    "    \n",
    "a= (2,1,5,6,8)\n",
    "\n",
    "result =tuple(filter(smaller, a))\n",
    "print(result)"
   ]
  },
  {
   "cell_type": "code",
   "execution_count": 12,
   "metadata": {},
   "outputs": [
    {
     "name": "stdout",
     "output_type": "stream",
     "text": [
      "20\n"
     ]
    }
   ],
   "source": [
    "# reduce function :              # here it gives summation of list\n",
    "\n",
    "from functools import *\n",
    "\n",
    "def add (a,b):\n",
    "    return a+b\n",
    "\n",
    "list =[1,3,5,5,6]\n",
    "\n",
    "result = reduce(add , list)\n",
    "print(result)"
   ]
  },
  {
   "cell_type": "code",
   "execution_count": 8,
   "metadata": {},
   "outputs": [
    {
     "name": "stdout",
     "output_type": "stream",
     "text": [
      "60\n"
     ]
    }
   ],
   "source": [
    "# reduce function :              # here it gives summation of list\n",
    "\n",
    "from functools import *\n",
    "\n",
    "\n",
    "list =[1,3,5,4]\n",
    "\n",
    "result = reduce(lambda a,b : a*b , list)\n",
    "print(result)"
   ]
  },
  {
   "cell_type": "code",
   "execution_count": 18,
   "metadata": {},
   "outputs": [
    {
     "name": "stdout",
     "output_type": "stream",
     "text": [
      "(3, 4, 6, 8)\n"
     ]
    }
   ],
   "source": [
    "# using map + filter :\n",
    "\n",
    "a= [5,6,8,10,1]\n",
    "result = map(lambda x : x-2 , filter(lambda y : (y>2), a ))\n",
    "\n",
    "print(tuple(result))             # it has to printed in tuple or set form ,list gets error"
   ]
  },
  {
   "cell_type": "code",
   "execution_count": 23,
   "metadata": {},
   "outputs": [
    {
     "name": "stdout",
     "output_type": "stream",
     "text": [
      "{9, 2, 6, 7}\n"
     ]
    }
   ],
   "source": [
    "# using map + filter :\n",
    "\n",
    "a= [5,6,8,10,1]\n",
    "result = filter(lambda x : x<10 , map(lambda y : y+1, a ))\n",
    "\n",
    "print(set(result))   "
   ]
  },
  {
   "cell_type": "code",
   "execution_count": 26,
   "metadata": {},
   "outputs": [
    {
     "name": "stdout",
     "output_type": "stream",
     "text": [
      "30\n"
     ]
    }
   ],
   "source": [
    "# using reduce + map + filter :\n",
    "\n",
    "\n",
    "from functools import *\n",
    "\n",
    "a= [5,10,15,11,8]\n",
    "\n",
    "result = reduce(lambda x,y : x+y , map(lambda z : z-2 , filter(lambda u : u>=10 , a)))\n",
    "\n",
    "print(result)"
   ]
  },
  {
   "cell_type": "code",
   "execution_count": null,
   "metadata": {},
   "outputs": [],
   "source": []
  }
 ],
 "metadata": {
  "kernelspec": {
   "display_name": "Python 3",
   "language": "python",
   "name": "python3"
  },
  "language_info": {
   "codemirror_mode": {
    "name": "ipython",
    "version": 3
   },
   "file_extension": ".py",
   "mimetype": "text/x-python",
   "name": "python",
   "nbconvert_exporter": "python",
   "pygments_lexer": "ipython3",
   "version": "3.7.6"
  }
 },
 "nbformat": 4,
 "nbformat_minor": 4
}
