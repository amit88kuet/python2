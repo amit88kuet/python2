{
 "cells": [
  {
   "cell_type": "code",
   "execution_count": 26,
   "metadata": {},
   "outputs": [
    {
     "data": {
      "text/plain": [
       "[2, 1]"
      ]
     },
     "execution_count": 26,
     "metadata": {},
     "output_type": "execute_result"
    }
   ],
   "source": [
    "# print the final score of a and b\n",
    "\n",
    "a= [5,10,15]\n",
    "b= [4,12,10]\n",
    "\n",
    "def compare(a,b) :\n",
    "    \n",
    "    count1 =0\n",
    "    count2 =0\n",
    "    for i in range(3) :\n",
    "        if a[i]>b[i] :\n",
    "            count1=count1+1\n",
    "            \n",
    "        else :\n",
    "             count2=count2+1\n",
    "                \n",
    "    c = [count1,count2]            \n",
    "    return c\n",
    "    \n",
    "\n",
    "compare(a,b)\n"
   ]
  },
  {
   "cell_type": "code",
   "execution_count": 10,
   "metadata": {},
   "outputs": [
    {
     "name": "stdout",
     "output_type": "stream",
     "text": [
      "Enter a value : 22\n",
      "Not Weird\n"
     ]
    }
   ],
   "source": [
    "n = int(input(\"Enter a value : \"))\n",
    "\n",
    "if n%2 !=0 :\n",
    "    print(\"Weird\")\n",
    "\n",
    "if n%2 ==0 :\n",
    "    if 2<=n<=5 :\n",
    "        print(\"Not Weird\")\n",
    "\n",
    "    elif 6<=n<=20 :    \n",
    "        print(\"Weird\")\n",
    "\n",
    "if n%2 ==0 and n>20 :\n",
    "    print(\"Not Weird\")\n"
   ]
  },
  {
   "cell_type": "code",
   "execution_count": 28,
   "metadata": {},
   "outputs": [
    {
     "name": "stdout",
     "output_type": "stream",
     "text": [
      "0\n",
      "1\n",
      "4\n",
      "9\n",
      "16\n"
     ]
    }
   ],
   "source": [
    "N=5\n",
    "\n",
    "for i in range(5) :\n",
    "\n",
    "    print(pow(i,2))"
   ]
  },
  {
   "cell_type": "code",
   "execution_count": 39,
   "metadata": {},
   "outputs": [
    {
     "name": "stdout",
     "output_type": "stream",
     "text": [
      "Enter a year : 2300\n",
      "False\n"
     ]
    }
   ],
   "source": [
    "# Checking leap year :\n",
    "\n",
    "n =int(input(\"Enter a year : \"))\n",
    "\n",
    "def year(n) :\n",
    "    \n",
    "    if n%4 ==0 :\n",
    "        if n%100 ==0 and n%400 ==0 :\n",
    "            print(\"True\")\n",
    "            \n",
    "        else :\n",
    "            print(\"False\")\n",
    "            \n",
    "    else :\n",
    "        print(\"False\")\n",
    "        \n",
    "year(n)\n"
   ]
  },
  {
   "cell_type": "code",
   "execution_count": 52,
   "metadata": {},
   "outputs": [
    {
     "name": "stdout",
     "output_type": "stream",
     "text": [
      "123"
     ]
    }
   ],
   "source": [
    "#n=3   #print 1 to 3 \n",
    "\n",
    "\n",
    "for i in range(1,4):\n",
    "    print(i,end=\"\") \n",
    "    "
   ]
  },
  {
   "cell_type": "code",
   "execution_count": 56,
   "metadata": {},
   "outputs": [
    {
     "name": "stdout",
     "output_type": "stream",
     "text": [
      "[1, 2, 3]\n"
     ]
    }
   ],
   "source": [
    "#n=3     # print 1 to 3\n",
    "\n",
    "\n",
    "\n",
    "print([i for i in range(1,4)]) \n",
    "    "
   ]
  },
  {
   "cell_type": "code",
   "execution_count": 59,
   "metadata": {},
   "outputs": [
    {
     "name": "stdout",
     "output_type": "stream",
     "text": [
      "5\n"
     ]
    }
   ],
   "source": [
    "a= [1,2,3,4,5]\n",
    "n= 5\n",
    "\n",
    "def second(a) :\n",
    "    for i in range(n) :\n",
    "    \n",
    "        big=i\n",
    "        for j in range(i+1,n) :\n",
    "            if a[big]<a[j]:\n",
    "                big=j\n",
    "                \n",
    "    print(a[big])\n",
    "                \n",
    "second(a)\n"
   ]
  },
  {
   "cell_type": "code",
   "execution_count": 31,
   "metadata": {},
   "outputs": [
    {
     "name": "stdout",
     "output_type": "stream",
     "text": [
      "2 3 6 6 5\n",
      "So the runner up score is :  5\n"
     ]
    }
   ],
   "source": [
    "# code for runner-up score :\n",
    "\n",
    "\n",
    "n=5\n",
    "#arr=[2,3,6,6,5]\n",
    "\n",
    "\n",
    "arr=list(map(int, input().split()))\n",
    "\n",
    "b= max(arr)\n",
    "\n",
    "i=0\n",
    "for i in range(5) :\n",
    "    if b==max(arr) :\n",
    "        c = arr.remove(b)\n",
    "        d = max(arr)\n",
    "        i=i+1\n",
    "        \n",
    "print(\"So the runner up score is : \",d)"
   ]
  },
  {
   "cell_type": "code",
   "execution_count": 8,
   "metadata": {},
   "outputs": [
    {
     "name": "stdout",
     "output_type": "stream",
     "text": [
      "rafi\n",
      "50.5\n",
      "amit\n",
      "50.5\n",
      "sufi\n",
      "40.5\n",
      "raj\n",
      "60.8\n",
      "shuvo\n",
      "70.8\n",
      "['sufi', 'amit', 'rafi', 'raj', 'shuvo']\n",
      "[40.5, 50.5, 50.5, 60.8, 80.8]\n"
     ]
    }
   ],
   "source": [
    "# damo code\n",
    "\n",
    "n=5\n",
    "arr=[[input(),float(input())] for _ in range(0,n)]\n",
    "arr.sort(key=lambda x: (x[1],x[0]))\n",
    "\n",
    "names = [i[0] for i in list]\n",
    "marks = [i[1] for i in list]\n",
    "\n",
    "print(names)\n",
    "print(marks)"
   ]
  },
  {
   "cell_type": "code",
   "execution_count": 6,
   "metadata": {},
   "outputs": [
    {
     "name": "stdout",
     "output_type": "stream",
     "text": [
      "rafi\n",
      "50.5\n",
      "amit\n",
      "50.5\n",
      "sufi\n",
      "40.5\n",
      "raj\n",
      "60.8\n",
      "shuvo\n",
      "80.8\n",
      "The second lowest marks get by :  amit\n",
      "The second lowest marks get by :  rafi\n"
     ]
    }
   ],
   "source": [
    "# programs for getting the names of second lowest marks \n",
    "\n",
    "\n",
    "n= 5\n",
    "\n",
    "list= [[input(),float(input())] for j in range(0,n)]\n",
    "\n",
    "list.sort(key= lambda x : (x[1],x[0]))\n",
    "\n",
    "names = [i[0] for i in list]\n",
    "marks = [i[1] for i in list]\n",
    "\n",
    "minimum =min(marks)\n",
    "\n",
    "\n",
    "for x in range(0,len(marks)) :\n",
    "    \n",
    "    if marks[0]== minimum :\n",
    "        marks.remove(marks[0])\n",
    "        names.remove(names[0])\n",
    "        \n",
    "        \n",
    "for y in range(0,len(marks)) :\n",
    "        \n",
    "    if marks[y] ==min(marks) :\n",
    "        print(\"The second lowest marks get by : \",names[y])\n",
    "\n",
    "\n"
   ]
  },
  {
   "cell_type": "code",
   "execution_count": 2,
   "metadata": {},
   "outputs": [
    {
     "name": "stdout",
     "output_type": "stream",
     "text": [
      "amit 50.5 60.7\n",
      "rafi 70.4 67.8\n"
     ]
    }
   ],
   "source": [
    "n=2\n",
    "\n",
    "for _ in range(n):\n",
    "        name, *line = input().split()\n",
    "        scores = list(map(float, line))"
   ]
  },
  {
   "cell_type": "code",
   "execution_count": 7,
   "metadata": {},
   "outputs": [
    {
     "name": "stdout",
     "output_type": "stream",
     "text": [
      "2\n",
      "amit 50.5 60 65.5\n",
      "rafi 50 60 70\n",
      "amit\n",
      "58.67\n"
     ]
    }
   ],
   "source": [
    "#if __name__ == '__main__':\n",
    "    n = int(input())\n",
    "    student_marks = {}\n",
    "    for _ in range(n):\n",
    "        name, *line = input().split()\n",
    "        scores = list(map(float, line))\n",
    "        student_marks[name] = scores\n",
    "    query_name = input()\n",
    "    query_score=student_marks[query_name]\n",
    "    a=(sum(query_score)/len(query_score))\n",
    "    print(\"{0:.2f}\".format(a))"
   ]
  },
  {
   "cell_type": "code",
   "execution_count": 1,
   "metadata": {},
   "outputs": [
    {
     "name": "stdout",
     "output_type": "stream",
     "text": [
      "2\n",
      "1 2\n",
      "3713081631934410656\n"
     ]
    }
   ],
   "source": [
    "n = int(input())\n",
    "integer_list = map(int, input().split())\n",
    "\n",
    "\n",
    "\n",
    "t= tuple(integer_list)\n",
    "print(hash(t))\n",
    "\n"
   ]
  },
  {
   "cell_type": "code",
   "execution_count": 5,
   "metadata": {},
   "outputs": [
    {
     "name": "stdout",
     "output_type": "stream",
     "text": [
      "amit\n",
      "rafi\n",
      " Hello amit rafi ! . We are learning python !! \n"
     ]
    }
   ],
   "source": [
    "name1 = input()\n",
    "name2 = input()\n",
    "\n",
    "print(\" Hello \" +name1,name2 +\" ! . We are learning python !! \")"
   ]
  },
  {
   "cell_type": "code",
   "execution_count": 11,
   "metadata": {},
   "outputs": [
    {
     "name": "stdout",
     "output_type": "stream",
     "text": [
      "amit\n",
      "rafi\n",
      "Hello amit rafi ! We are learning python !! \n"
     ]
    }
   ],
   "source": [
    "def write (a,b) :\n",
    "    \n",
    "    a = input()\n",
    "    b = input()\n",
    "\n",
    "    print(\"Hello \" + a,b + \" ! We are learning python !! \")\n",
    "    \n",
    "\n",
    "write(a,b)\n",
    "\n",
    "    "
   ]
  },
  {
   "cell_type": "code",
   "execution_count": 5,
   "metadata": {},
   "outputs": [
    {
     "name": "stdout",
     "output_type": "stream",
     "text": [
      "['b', 'e', 'a', 'u', 't', 'i', 'f', 'u', 'l']\n",
      "i\n",
      "['b', 'e', 'a', 'u', 't', 5, 'f', 'u', 'l']\n"
     ]
    }
   ],
   "source": [
    "# to replace an element in the list\n",
    "\n",
    "\n",
    "name = \"beautiful\"\n",
    "\n",
    "a = list(name)\n",
    "print(a)\n",
    "\n",
    "print(a[5])\n",
    "\n",
    "a[5] = 5\n",
    "\n",
    "print(a)"
   ]
  },
  {
   "cell_type": "code",
   "execution_count": 3,
   "metadata": {},
   "outputs": [
    {
     "name": "stdout",
     "output_type": "stream",
     "text": [
      "beautiful\n",
      "5\n",
      "5\n",
      "['b', 'e', 'a', 'u', 't', '5', 'f', 'u', 'l']\n"
     ]
    }
   ],
   "source": [
    "# using fuction\n",
    "\n",
    "\n",
    "def mutate_string(string, position , character):\n",
    "    \n",
    "    a = list(s)\n",
    "    \n",
    "    a[p] = c\n",
    "    print(a)\n",
    "\n",
    "s = input()\n",
    "p = int(input())          # index should be integer\n",
    "c = input()\n",
    "\n",
    "mutate_string(s, p, c)\n"
   ]
  },
  {
   "cell_type": "code",
   "execution_count": 2,
   "metadata": {},
   "outputs": [
    {
     "name": "stdout",
     "output_type": "stream",
     "text": [
      "a b c d e\n",
      "a b c d e\n"
     ]
    }
   ],
   "source": [
    "a = input().strip()\n",
    "print(a)"
   ]
  },
  {
   "cell_type": "code",
   "execution_count": 2,
   "metadata": {},
   "outputs": [
    {
     "data": {
      "text/plain": [
       "2"
      ]
     },
     "execution_count": 2,
     "metadata": {},
     "output_type": "execute_result"
    }
   ],
   "source": [
    "\n",
    "def find (a,b) :\n",
    "    \n",
    "    a = \"abcdcdc\"\n",
    "    b = \"cdc\"\n",
    "    \n",
    "    count =0\n",
    "    for i in range (0,5) :\n",
    "        \n",
    "        if ( a[i : i+3] == b ) :\n",
    "            count =count+1\n",
    "            \n",
    "    return (count)\n",
    "\n",
    "a = \"abcdcdc\"\n",
    "b = \"cdc\"\n",
    "\n",
    "find(a,b)"
   ]
  },
  {
   "cell_type": "code",
   "execution_count": 1,
   "metadata": {},
   "outputs": [
    {
     "name": "stdout",
     "output_type": "stream",
     "text": [
      "False\n"
     ]
    }
   ],
   "source": [
    "a = \"abcA\"\n",
    "\n",
    "print(a.islower())"
   ]
  },
  {
   "cell_type": "code",
   "execution_count": 2,
   "metadata": {},
   "outputs": [
    {
     "name": "stdout",
     "output_type": "stream",
     "text": [
      "False\n"
     ]
    }
   ],
   "source": [
    "a = \"abcA\"\n",
    "\n",
    "print(a.isupper())"
   ]
  },
  {
   "cell_type": "code",
   "execution_count": 3,
   "metadata": {},
   "outputs": [
    {
     "name": "stdout",
     "output_type": "stream",
     "text": [
      "True\n"
     ]
    }
   ],
   "source": [
    "a = \"abcd\"\n",
    "print(a.islower())"
   ]
  },
  {
   "cell_type": "code",
   "execution_count": 15,
   "metadata": {},
   "outputs": [
    {
     "name": "stdout",
     "output_type": "stream",
     "text": [
      "AAA2\n",
      "True\n",
      "True\n",
      "True\n",
      "False\n",
      "True\n"
     ]
    }
   ],
   "source": [
    "a = input()\n",
    "\n",
    "print(a.isalnum())\n",
    "\n",
    "b1 = any(b.isalpha()   for b in a )\n",
    "print(b1)\n",
    "\n",
    "b2 = any(b.isdigit()   for b in a )\n",
    "print(b2)\n",
    "\n",
    "b3 = any(b.islower()   for b in a )\n",
    "print(b3)\n",
    "\n",
    "b4 = any(b.isupper()   for b in a )\n",
    "print(b4)"
   ]
  },
  {
   "cell_type": "code",
   "execution_count": 17,
   "metadata": {},
   "outputs": [
    {
     "name": "stdout",
     "output_type": "stream",
     "text": [
      "ABCD\n",
      "EFGH\n",
      "IJKL\n",
      "IMNO\n",
      "QRST\n",
      "UVWX\n",
      "YZ\n"
     ]
    }
   ],
   "source": [
    "from textwrap import *\n",
    "\n",
    "def wrapping (string,width) :\n",
    "    \n",
    "    a = \"ABCDEFGHIJKLIMNOQRSTUVWXYZ\"\n",
    "    b = fill(a,4)\n",
    "    print(b)\n",
    "    \n",
    "wrapping (a,b)"
   ]
  },
  {
   "cell_type": "code",
   "execution_count": 20,
   "metadata": {},
   "outputs": [
    {
     "name": "stdout",
     "output_type": "stream",
     "text": [
      "['ABCD', 'EFGH', 'IJKL', 'IMNO', 'QRST', 'UVWX', 'YZ']\n"
     ]
    }
   ],
   "source": [
    "from textwrap import *\n",
    "\n",
    "def wrapping (string,width) :\n",
    "    \n",
    "    a = \"ABCDEFGHIJKLIMNOQRSTUVWXYZ\"\n",
    "    b = wrap(a,4)\n",
    "    print(b)\n",
    "    \n",
    "wrapping (a,b)"
   ]
  },
  {
   "cell_type": "code",
   "execution_count": 8,
   "metadata": {},
   "outputs": [
    {
     "name": "stdout",
     "output_type": "stream",
     "text": [
      "17\n",
      "    1     1     1     1\n",
      "    2     2     2    10\n",
      "    3     3     3    11\n",
      "    4     4     4   100\n",
      "    5     5     5   101\n",
      "    6     6     6   110\n",
      "    7     7     7   111\n",
      "    8    10     8  1000\n",
      "    9    11     9  1001\n",
      "   10    12     A  1010\n",
      "   11    13     B  1011\n",
      "   12    14     C  1100\n",
      "   13    15     D  1101\n",
      "   14    16     E  1110\n",
      "   15    17     F  1111\n",
      "   16    20    10 10000\n",
      "   17    21    11 10001\n"
     ]
    }
   ],
   "source": [
    "\n",
    "def print_formatted(number):\n",
    "    \n",
    "    width=len(bin(number)[2:])\n",
    "\n",
    "    for i in range(1,number+1):\n",
    "    \n",
    "        deci=str(i)\n",
    "        octa=oct(i)[2:]\n",
    "        hexa=(hex(i)[2:]).upper()\n",
    "        bina=bin(i)[2:]\n",
    "        print(deci.rjust(width),octa.rjust(width),hexa.rjust(width),bina.rjust(width))\n",
    "    \n",
    "number = int(input())      \n",
    "print_formatted(number)"
   ]
  },
  {
   "cell_type": "code",
   "execution_count": 11,
   "metadata": {},
   "outputs": [
    {
     "name": "stdout",
     "output_type": "stream",
     "text": [
      "1\n",
      "2\n",
      "3\n",
      "4\n",
      "5\n",
      "6\n",
      "7\n",
      "8\n",
      "9\n",
      "A\n",
      "B\n",
      "C\n",
      "D\n",
      "E\n",
      "F\n",
      "10\n"
     ]
    }
   ],
   "source": [
    "\n",
    "for i in range(1,17):\n",
    "    a = hex(i)[2 :].upper()\n",
    "    print(a)"
   ]
  },
  {
   "cell_type": "code",
   "execution_count": 6,
   "metadata": {},
   "outputs": [
    {
     "name": "stdout",
     "output_type": "stream",
     "text": [
      "Enter seconds : 5000\n",
      "1 h 23 min 20 s\n"
     ]
    }
   ],
   "source": [
    "# convert to hour,minute,second\n",
    "\n",
    "\n",
    "a = int(input(\"Enter seconds : \"))\n",
    "\n",
    "hour = a // 3600 \n",
    "remain = a % 3600\n",
    "\n",
    "minute = remain // 60\n",
    "second = remain % 60\n",
    "\n",
    "print(hour,\"h\",minute,\"min\",second,\"s\")\n",
    "\n"
   ]
  },
  {
   "cell_type": "code",
   "execution_count": 2,
   "metadata": {},
   "outputs": [],
   "source": [
    "import turtle \n",
    "\n",
    "wn = turtle.Screen()\n",
    "tom =turtle.Turtle()\n",
    "tom.forward(150)\n",
    "tom.left(90)\n",
    "tom.forward(75)"
   ]
  },
  {
   "cell_type": "code",
   "execution_count": 1,
   "metadata": {},
   "outputs": [],
   "source": [
    "import turtle \n",
    "\n",
    "wn = turtle.Screen()\n",
    "tom = turtle.Turtle()\n",
    "\n",
    "distance = 50\n",
    "for i in range(10) :\n",
    "    tom.forward(distance)\n",
    "    tom.right(90)\n",
    "    distance = distance+10"
   ]
  },
  {
   "cell_type": "code",
   "execution_count": 1,
   "metadata": {},
   "outputs": [
    {
     "name": "stdout",
     "output_type": "stream",
     "text": [
      "The result is : 57\n"
     ]
    }
   ],
   "source": [
    "\n",
    "\n",
    "def num_characters(string):\n",
    "    total = 0\n",
    "    for character in string:\n",
    "        total += 1\n",
    "    return total\n",
    "\n",
    "string = \"The quick brown rhino jumped over the extremely lazy fox.\"\n",
    "\n",
    "print(f\"The result is : {len(string)}\")"
   ]
  },
  {
   "cell_type": "code",
   "execution_count": 3,
   "metadata": {},
   "outputs": [
    {
     "data": {
      "text/plain": [
       "57"
      ]
     },
     "execution_count": 3,
     "metadata": {},
     "output_type": "execute_result"
    }
   ],
   "source": [
    "def num_characters(original_str):\n",
    "    total = 0\n",
    "    for character in original_str:\n",
    "        total += 1\n",
    "    return total\n",
    "\n",
    "original_str = \"The quick brown rhino jumped over the extremely lazy fox.\"\n",
    "num_characters(original_str)\n",
    "#print(f\"The result is : {len(original_str)}\")"
   ]
  },
  {
   "cell_type": "code",
   "execution_count": 4,
   "metadata": {},
   "outputs": [
    {
     "name": "stdout",
     "output_type": "stream",
     "text": [
      "57\n"
     ]
    }
   ],
   "source": [
    "original_str = \"The quick brown rhino jumped over the extremely lazy fox.\"\n",
    "num_chars = 0\n",
    "for character in original_str:\n",
    "    num_chars+= 1\n",
    "print(num_chars) "
   ]
  },
  {
   "cell_type": "code",
   "execution_count": 31,
   "metadata": {},
   "outputs": [
    {
     "name": "stdout",
     "output_type": "stream",
     "text": [
      "['2', '5', '10', '20']\n",
      "[2, 5, 10, 20]\n",
      "37\n"
     ]
    }
   ],
   "source": [
    "addition_str = \"2+5+10+20\"\n",
    "\n",
    "a = addition_str.split(\"+\")\n",
    "print(a)\n",
    "\n",
    "b = [int(s) for s in a]\n",
    "print(b)\n",
    "\n",
    "sum =0\n",
    "for i in b:\n",
    "    sum= sum + i\n",
    "print(sum)\n"
   ]
  },
  {
   "cell_type": "code",
   "execution_count": 16,
   "metadata": {},
   "outputs": [
    {
     "name": "stdout",
     "output_type": "stream",
     "text": [
      "bbbbbbb"
     ]
    }
   ],
   "source": [
    "lett = ''\n",
    "for i in range(7):\n",
    "    lett += 'b'\n",
    "print(lett, end='')\n",
    "    "
   ]
  },
  {
   "cell_type": "code",
   "execution_count": null,
   "metadata": {},
   "outputs": [],
   "source": [
    "wn = turtle.Screen()\n",
    "tom =turtle.Turtle()\n",
    "\n",
    "for i in range(5) :\n",
    "    tom.speed(0)\n",
    "    tom.forward(150)\n",
    "    tom.left(90)\n"
   ]
  },
  {
   "cell_type": "code",
   "execution_count": 18,
   "metadata": {},
   "outputs": [
    {
     "name": "stdout",
     "output_type": "stream",
     "text": [
      "[3, 5, 5, 5, 6, 4, 3, 9, 4, 3]\n"
     ]
    }
   ],
   "source": [
    "s = \"The quick brown rhino jumped over the extremely lazy fox\"\n",
    "\n",
    "a = list(map(len, s.split()))\n",
    "\n",
    "print(a)"
   ]
  },
  {
   "cell_type": "code",
   "execution_count": 38,
   "metadata": {},
   "outputs": [
    {
     "name": "stdout",
     "output_type": "stream",
     "text": [
      "['75.1', '77.7', '83.2', '82.5', '81.0', '79.5', '85.7']\n",
      "564.7\n",
      "80.67142857142858\n"
     ]
    }
   ],
   "source": [
    "a = \"75.1,77.7,83.2,82.5,81.0,79.5,85.7\"\n",
    "\n",
    "b = a.split(\",\")\n",
    "print(b)\n",
    "\n",
    "c = [float(s) for s in b]\n",
    "\n",
    "sum =0\n",
    "for i in c:\n",
    "    sum= sum + i\n",
    "print(sum)\n",
    "\n",
    "avg_temp = ( sum )/ 7\n",
    "print(avg_temp)"
   ]
  },
  {
   "cell_type": "code",
   "execution_count": null,
   "metadata": {},
   "outputs": [],
   "source": []
  }
 ],
 "metadata": {
  "kernelspec": {
   "display_name": "Python 3",
   "language": "python",
   "name": "python3"
  },
  "language_info": {
   "codemirror_mode": {
    "name": "ipython",
    "version": 3
   },
   "file_extension": ".py",
   "mimetype": "text/x-python",
   "name": "python",
   "nbconvert_exporter": "python",
   "pygments_lexer": "ipython3",
   "version": "3.7.6"
  }
 },
 "nbformat": 4,
 "nbformat_minor": 4
}
