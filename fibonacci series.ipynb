{
 "cells": [
  {
   "cell_type": "code",
   "execution_count": 29,
   "metadata": {},
   "outputs": [
    {
     "name": "stdout",
     "output_type": "stream",
     "text": [
      "0\n",
      "1\n",
      "1\n",
      "2\n",
      "3\n",
      "5\n",
      "8\n",
      "13\n",
      "21\n",
      "34\n",
      "55\n",
      "89\n"
     ]
    }
   ],
   "source": [
    "# 0 1 1 2 3 5 8 13 21..............(fibonacci series)\n",
    "\n",
    "\n",
    "def fibo(x) :\n",
    "\n",
    "    a=0\n",
    "    b=1\n",
    "    print(0)\n",
    "    print(1)\n",
    "    \n",
    "    for i in range (1,11) :\n",
    "    \n",
    "        c=a+b\n",
    "        a,b=b,c    #swap                  #or  a=b &b=c\n",
    "                                       \n",
    "        print(c)\n",
    "    \n",
    "fibo (10)"
   ]
  },
  {
   "cell_type": "code",
   "execution_count": 34,
   "metadata": {},
   "outputs": [
    {
     "name": "stdout",
     "output_type": "stream",
     "text": [
      "120\n"
     ]
    }
   ],
   "source": [
    "# to find factorial\n",
    "\n",
    "\n",
    "def fact(n) :\n",
    "\n",
    "    initial =1\n",
    "\n",
    "    for i in range (1,n+1):\n",
    "        initial =initial *i\n",
    "    \n",
    "    return initial\n",
    "\n",
    "result= fact(5)\n",
    "print(result)"
   ]
  },
  {
   "cell_type": "code",
   "execution_count": null,
   "metadata": {},
   "outputs": [],
   "source": [
    "# to find factorial\n",
    "\n",
    "def fact(n) :\n",
    "\n",
    "    initial =1\n",
    "    \n",
    "    while i <= n:\n",
    "        initial =initial *i\n",
    "    \n",
    "    return initial\n",
    "\n",
    "result= fact(5)\n",
    "print(result)"
   ]
  },
  {
   "cell_type": "code",
   "execution_count": 1,
   "metadata": {},
   "outputs": [
    {
     "name": "stdout",
     "output_type": "stream",
     "text": [
      "Enter a number : 2\n",
      "2\n"
     ]
    }
   ],
   "source": [
    "import math\n",
    "\n",
    "n= int(input(\"Enter a number : \"))\n",
    "  \n",
    "print(math.factorial(n))\n"
   ]
  },
  {
   "cell_type": "code",
   "execution_count": null,
   "metadata": {},
   "outputs": [],
   "source": []
  }
 ],
 "metadata": {
  "kernelspec": {
   "display_name": "Python 3",
   "language": "python",
   "name": "python3"
  },
  "language_info": {
   "codemirror_mode": {
    "name": "ipython",
    "version": 3
   },
   "file_extension": ".py",
   "mimetype": "text/x-python",
   "name": "python",
   "nbconvert_exporter": "python",
   "pygments_lexer": "ipython3",
   "version": "3.7.6"
  }
 },
 "nbformat": 4,
 "nbformat_minor": 4
}
