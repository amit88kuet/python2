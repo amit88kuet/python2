{
 "cells": [
  {
   "cell_type": "code",
   "execution_count": 2,
   "metadata": {},
   "outputs": [
    {
     "name": "stdout",
     "output_type": "stream",
     "text": [
      "([1, 2, 3], [4, 5, 6], [7, 8, 9], [4, 5, 6], [1, 2, 3], [2, 3, 5])\n"
     ]
    }
   ],
   "source": [
    "from numpy import *\n",
    "\n",
    "m1 = ([1,2,3],\n",
    "      [4,5,6],\n",
    "      [7,8,9]\n",
    "     )\n",
    "\n",
    "\n",
    "m2 = ([4,5,6],\n",
    "      [1,2,3],\n",
    "      [2,3,5]\n",
    "     )\n",
    "\n",
    "result = m1+m2\n",
    "print(result)"
   ]
  },
  {
   "cell_type": "code",
   "execution_count": 12,
   "metadata": {},
   "outputs": [
    {
     "name": "stdout",
     "output_type": "stream",
     "text": [
      "[[ 5  7  9]\n",
      " [ 5  7  9]\n",
      " [ 9 11 14]]\n"
     ]
    }
   ],
   "source": [
    "from numpy import *\n",
    "\n",
    "m1 = [[1,2,3],\n",
    "      [4,5,6],\n",
    "      [7,8,9]\n",
    "     ]\n",
    "\n",
    "\n",
    "m2 = [[4,5,6],\n",
    "      [1,2,3],\n",
    "      [2,3,5]\n",
    "     ]\n",
    "\n",
    "result = add(m1,m2)\n",
    "print(result)\n",
    "\n"
   ]
  },
  {
   "cell_type": "code",
   "execution_count": 13,
   "metadata": {},
   "outputs": [
    {
     "name": "stdout",
     "output_type": "stream",
     "text": [
      "[[-3 -3 -3]\n",
      " [ 3  3  3]\n",
      " [ 5  5  4]]\n"
     ]
    }
   ],
   "source": [
    "from numpy import *\n",
    "\n",
    "m1 = [[1,2,3],\n",
    "      [4,5,6],\n",
    "      [7,8,9]\n",
    "     ]\n",
    "\n",
    "\n",
    "m2 = [[4,5,6],\n",
    "      [1,2,3],\n",
    "      [2,3,5]\n",
    "     ]\n",
    "\n",
    "result = subtract(m1,m2)\n",
    "print(result)\n",
    "\n"
   ]
  },
  {
   "cell_type": "code",
   "execution_count": 14,
   "metadata": {},
   "outputs": [
    {
     "name": "stdout",
     "output_type": "stream",
     "text": [
      "[[ 12  18  27]\n",
      " [ 33  48  69]\n",
      " [ 54  78 111]]\n"
     ]
    }
   ],
   "source": [
    "from numpy import *\n",
    "\n",
    "m1 = [[1,2,3],\n",
    "      [4,5,6],\n",
    "      [7,8,9]\n",
    "     ]\n",
    "\n",
    "\n",
    "m2 = [[4,5,6],\n",
    "      [1,2,3],\n",
    "      [2,3,5]\n",
    "     ]\n",
    "\n",
    "result = dot(m1,m2)               # to multiply dot is used\n",
    "print(result)\n",
    "\n"
   ]
  },
  {
   "cell_type": "code",
   "execution_count": 9,
   "metadata": {},
   "outputs": [
    {
     "name": "stdout",
     "output_type": "stream",
     "text": [
      "3\n",
      "4\n",
      "5\n"
     ]
    }
   ],
   "source": [
    "\n",
    "matrix = [\n",
    "          [1,2,3],\n",
    "          [2,3,4],\n",
    "          [3,4,5]\n",
    "         ]\n",
    "\n",
    "print(matrix[0][2])\n",
    "print(matrix[1][2])\n",
    "print(matrix[2][2])"
   ]
  },
  {
   "cell_type": "code",
   "execution_count": 10,
   "metadata": {},
   "outputs": [
    {
     "name": "stdout",
     "output_type": "stream",
     "text": [
      "10\n"
     ]
    }
   ],
   "source": [
    "# by changing value of any element\n",
    "\n",
    "\n",
    "matrix = [\n",
    "          [1,2,3],\n",
    "          [2,3,4],\n",
    "          [3,4,5]\n",
    "         ]\n",
    "\n",
    "matrix[0][2] = 10\n",
    "print(matrix[0][2])"
   ]
  },
  {
   "cell_type": "code",
   "execution_count": 11,
   "metadata": {},
   "outputs": [
    {
     "name": "stdout",
     "output_type": "stream",
     "text": [
      "1\n",
      "2\n",
      "3\n",
      "2\n",
      "3\n",
      "4\n",
      "3\n",
      "4\n",
      "5\n"
     ]
    }
   ],
   "source": [
    "# using nested loop matrix can be expressed\n",
    "\n",
    "matrix = [\n",
    "          [1,2,3],\n",
    "          [2,3,4],\n",
    "          [3,4,5]\n",
    "         ]\n",
    "\n",
    "for row in matrix :\n",
    "    for column in row :\n",
    "        print(column)"
   ]
  },
  {
   "cell_type": "code",
   "execution_count": null,
   "metadata": {},
   "outputs": [],
   "source": []
  }
 ],
 "metadata": {
  "kernelspec": {
   "display_name": "Python 3",
   "language": "python",
   "name": "python3"
  },
  "language_info": {
   "codemirror_mode": {
    "name": "ipython",
    "version": 3
   },
   "file_extension": ".py",
   "mimetype": "text/x-python",
   "name": "python",
   "nbconvert_exporter": "python",
   "pygments_lexer": "ipython3",
   "version": "3.7.6"
  }
 },
 "nbformat": 4,
 "nbformat_minor": 4
}
