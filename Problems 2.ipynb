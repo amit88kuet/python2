{
 "cells": [
  {
   "cell_type": "code",
   "execution_count": 16,
   "metadata": {},
   "outputs": [
    {
     "name": "stdout",
     "output_type": "stream",
     "text": [
      "['Bring an umbrella', 'Nice day!', 'Bring an umbrella', 'Watch out for clouds!', 'Nice day!', 'Nice day!', 'Watch out for clouds!', 'Good for the flowers?']\n"
     ]
    }
   ],
   "source": [
    "percent_rain = [94.3, 45, 100, 78, 16, 5.3, 79, 86]\n",
    "b = []\n",
    "\n",
    "for i in percent_rain :\n",
    "    \n",
    "    if i > 90:\n",
    "        a = b.append(\"Bring an umbrella\")\n",
    "    \n",
    "    elif i >80 :\n",
    "        a1 = b.append(\"Good for the flowers?\")\n",
    "        \n",
    "    elif i> 50 :\n",
    "        a2 = b.append(\"Watch out for clouds!\")\n",
    "        \n",
    "    else :\n",
    "        a3 = b.append(\"Nice day!\")\n",
    "        \n",
    "print(b)\n",
    "        "
   ]
  },
  {
   "cell_type": "code",
   "execution_count": 19,
   "metadata": {},
   "outputs": [
    {
     "name": "stdout",
     "output_type": "stream",
     "text": [
      "5\n",
      "5\n",
      "3\n",
      "6\n",
      "2\n",
      "3\n",
      "Total no. of words :  3\n"
     ]
    }
   ],
   "source": [
    "words = [\"water\", \"chair\", \"pen\", \"basket\", \"hi\", \"car\"]\n",
    "\n",
    "for i in words :\n",
    "    a = len(i)\n",
    "    print(a)\n",
    "    \n",
    "num_words = 0\n",
    "for i in words :\n",
    "    if len(i)>3 :\n",
    "        \n",
    "        num_words+=1\n",
    "print(\"Total no. of words : \",num_words)"
   ]
  },
  {
   "cell_type": "code",
   "execution_count": 3,
   "metadata": {},
   "outputs": [
    {
     "name": "stdout",
     "output_type": "stream",
     "text": [
      "maked\n",
      "taked\n",
      "adopted\n",
      "['maked', 'taked', 'adopted']\n"
     ]
    }
   ],
   "source": [
    "a =[\"make\",\"take\",\"adopt\"]\n",
    "\n",
    "list_that = [ ]\n",
    "\n",
    "for i in a :\n",
    "    b = len(i)\n",
    "    if i[b-1] ==\"e\" :\n",
    "        c = i + \"d\"\n",
    "        print(c)\n",
    "        \n",
    "    else :\n",
    "        c = i + \"ed\"\n",
    "        \n",
    "        print(c)\n",
    "    \n",
    "    a = list_that.append(c)\n",
    "print(list_that)"
   ]
  },
  {
   "cell_type": "code",
   "execution_count": 4,
   "metadata": {},
   "outputs": [
    {
     "name": "stdout",
     "output_type": "stream",
     "text": [
      "['1.65', ' 1.46', ' 2.05', ' 3.03', ' 3.35', ' 3.46', ' 2.83', ' 3.23', ' 3.5', ' 2.52', ' 2.8', ' 1.85']\n",
      "[1.65, 1.46, 2.05, 3.03, 3.35, 3.46, 2.83, 3.23, 3.5, 2.52, 2.8, 1.85]\n",
      "5\n"
     ]
    }
   ],
   "source": [
    "a = \"1.65, 1.46, 2.05, 3.03, 3.35, 3.46, 2.83, 3.23, 3.5, 2.52, 2.8, 1.85\"\n",
    "\n",
    "b = a.split(\",\")\n",
    "print(b)\n",
    "\n",
    "c = [float(x) for x in b ]\n",
    "print(c)\n",
    "\n",
    "count =0\n",
    "for i in c :\n",
    "    if i > 3.0 :\n",
    "        count = count + 1\n",
    "        \n",
    "print(count)"
   ]
  },
  {
   "cell_type": "code",
   "execution_count": 10,
   "metadata": {},
   "outputs": [
    {
     "name": "stdout",
     "output_type": "stream",
     "text": [
      "['students', 'flock', 'to', 'the', 'arb', 'for', 'a', 'variety', 'of', 'outdoor', 'activities', 'such', 'as', 'jogging', 'and', 'picnicking']\n",
      "['students', 'flock', 'to', 'the', 'arb', 'for', 'a', 'variety', 'of', 'outdoor', 'activities', 'such', 'as', 'jogging', 'and', 'picnicking']\n",
      "2\n"
     ]
    }
   ],
   "source": [
    "a = \"students flock to the arb for a variety of outdoor activities such as jogging and picnicking\"\n",
    "\n",
    "b = a.split(\" \") \n",
    "print(b)\n",
    "\n",
    "c = [x for x in b]\n",
    "print(c)\n",
    "\n",
    "count = 0\n",
    "for i in c :\n",
    "    d = len(i) \n",
    "    if i[0] == i[d-1] :\n",
    "        count = count +1\n",
    "        \n",
    "print(count)"
   ]
  },
  {
   "cell_type": "code",
   "execution_count": 18,
   "metadata": {},
   "outputs": [
    {
     "name": "stdout",
     "output_type": "stream",
     "text": [
      "4\n"
     ]
    }
   ],
   "source": [
    "a = [\"whirring\", \"wow!\", \"calendar\", \"wry\", \"glass\", \"\", \"llama\",\"tumultuous\",\"owing\"]\n",
    "\n",
    "count = 0\n",
    "for i in a :\n",
    "    if \"w\" in i :\n",
    "        count = count +1\n",
    "        \n",
    "print(count)"
   ]
  },
  {
   "cell_type": "code",
   "execution_count": 26,
   "metadata": {},
   "outputs": [
    {
     "name": "stdout",
     "output_type": "stream",
     "text": [
      "['python', 'is', 'a', 'high', 'level', 'general', 'purpose', 'programming', 'language', 'that', 'can', 'be', 'applied', 'to', 'many', 'different', 'classes', 'of', 'problems.']\n",
      "The no. of words containing a or e :  14\n"
     ]
    }
   ],
   "source": [
    "a = \"python is a high level general purpose programming language that can be applied to many different classes of problems.\"\n",
    "\n",
    "b = a.split(\" \") \n",
    "\n",
    "c = [x for x in b]\n",
    "print(c)\n",
    "\n",
    "count = 0\n",
    "for i in c :\n",
    "    if \"e\" in i or \"a\" in i :\n",
    "        count= count +1\n",
    "        \n",
    "print(\"The no. of words containing a or e : \",count)\n",
    "    \n",
    "\n"
   ]
  },
  {
   "cell_type": "code",
   "execution_count": 27,
   "metadata": {},
   "outputs": [
    {
     "name": "stdout",
     "output_type": "stream",
     "text": [
      "32\n"
     ]
    }
   ],
   "source": [
    "s = \"singing in the rain and playing in the rain are two entirely different situations but both can be fun\"\n",
    "\n",
    "vowels = ['a','e','i','o','u']\n",
    "\n",
    "count = 0\n",
    "for i in s :\n",
    "    if i in vowels :\n",
    "        count = count + 1\n",
    "\n",
    "print(count)\n",
    "\n"
   ]
  },
  {
   "cell_type": "code",
   "execution_count": 37,
   "metadata": {
    "scrolled": true
   },
   "outputs": [
    {
     "name": "stdout",
     "output_type": "stream",
     "text": [
      "['Youyou Tu', 'Rainer Weiss', 'Malala Yousafzai', 'Kazuo Ishiguro', 'Alvin E. Roth', 'Alice Munro']\n",
      "None\n"
     ]
    }
   ],
   "source": [
    "winners = ['Alice Munro', 'Alvin E. Roth', 'Kazuo Ishiguro', 'Malala Yousafzai', 'Rainer Weiss', 'Youyou Tu']\n",
    "\n",
    "\n",
    "z_winners = winners.reverse()\n",
    "\n",
    "print(winners)\n",
    "print(z_winners)\n"
   ]
  },
  {
   "cell_type": "code",
   "execution_count": 48,
   "metadata": {},
   "outputs": [
    {
     "name": "stdout",
     "output_type": "stream",
     "text": [
      "[10, 15, 20, 25, 30]\n"
     ]
    }
   ],
   "source": [
    "numbs = [5, 10, 15, 20, 25]\n",
    "\n",
    "a = 5\n",
    "\n",
    "numbs = [(x + a) for x in numbs ]\n",
    "print(numbs)"
   ]
  },
  {
   "cell_type": "code",
   "execution_count": 52,
   "metadata": {},
   "outputs": [
    {
     "name": "stdout",
     "output_type": "stream",
     "text": [
      "['67', '80', '90', '78', '93', '20', '79', '89', '96', '97', '92', '88', '79', '68', '58', '90', '98', '100', '79', '74', '83', '88', '80', '86', '85', '70', '90', '100']\n",
      "[67, 80, 90, 78, 93, 20, 79, 89, 96, 97, 92, 88, 79, 68, 58, 90, 98, 100, 79, 74, 83, 88, 80, 86, 85, 70, 90, 100]\n",
      "10\n"
     ]
    }
   ],
   "source": [
    "# How many are above or equal 90\n",
    "\n",
    "\n",
    "scores = \"67 80 90 78 93 20 79 89 96 97 92 88 79 68 58 90 98 100 79 74 83 88 80 86 85 70 90 100\"\n",
    "\n",
    "a = scores.split(\" \")\n",
    "print(a)\n",
    "\n",
    "b = [int(x) for x in a]\n",
    "print(b)\n",
    "\n",
    "count = 0\n",
    "for i in b :\n",
    "    if i>= 90 :\n",
    "        count = count + 1\n",
    "        \n",
    "print(count)\n",
    "\n",
    "\n"
   ]
  },
  {
   "cell_type": "code",
   "execution_count": 67,
   "metadata": {},
   "outputs": [
    {
     "name": "stdout",
     "output_type": "stream",
     "text": [
      "['The', 'organization', 'for', 'health,', 'safety,', 'and', 'education']\n",
      "['The', 'organization', 'for', 'health,', 'safety,', 'and', 'education']\n",
      "OHSE"
     ]
    }
   ],
   "source": [
    "# print the first letter of main words in capital\n",
    "\n",
    "\n",
    "org = \"The organization for health, safety, and education\"\n",
    "\n",
    "a = org.split(\" \")\n",
    "print(a)\n",
    "\n",
    "b = [x for x in a]\n",
    "print(b)\n",
    "\n",
    "for i in b :\n",
    "    c = len(i)\n",
    "    if c>3 :\n",
    "        d = i[0]\n",
    "        e = d.upper()\n",
    "        \n",
    "        print(e, end=\"\")\n"
   ]
  },
  {
   "cell_type": "code",
   "execution_count": 74,
   "metadata": {},
   "outputs": [
    {
     "name": "stdout",
     "output_type": "stream",
     "text": [
      "['The', 'water', 'earth', 'and', 'air', 'are', 'vital']\n",
      "['The', 'water', 'earth', 'and', 'air', 'are', 'vital']\n",
      "['water', 'earth', 'air', 'are', 'vital']\n",
      "WA.EA.AI.AR.VI."
     ]
    }
   ],
   "source": [
    "# print 1st two letters in capital\n",
    "\n",
    "\n",
    "sent = \"The water earth and air are vital\"\n",
    "\n",
    "a = sent.split(\" \")\n",
    "print(a)\n",
    "\n",
    "b = [x for x in a]\n",
    "print(b)\n",
    "\n",
    "b.remove(\"The\")\n",
    "b.remove(\"and\")\n",
    "print(b)\n",
    "\n",
    "for i in b :\n",
    "    \n",
    "    d = i[0 : 2]\n",
    "    e = d.upper()\n",
    "        \n",
    "    print(e, end=\".\")\n"
   ]
  },
  {
   "cell_type": "code",
   "execution_count": 94,
   "metadata": {},
   "outputs": [
    {
     "name": "stdout",
     "output_type": "stream",
     "text": [
      "['was', 'it', 'a', 'car', 'or', 'a', 'cat', 'I', 'saw']\n",
      "['was', 'it', 'a', 'car', 'or', 'a', 'cat', 'I', 'saw']\n",
      "saw ti a rac ro a tac I was "
     ]
    }
   ],
   "source": [
    "p_phrase = \"was it a car or a cat I saw\"\n",
    "\n",
    "a = p_phrase.split(\" \")\n",
    "print(a)\n",
    "\n",
    "b = [x for x in a]\n",
    "print(b)\n",
    "\n",
    "for i in b:\n",
    "    r = \"\".join(reversed(i))\n",
    "    print(r, end= \" \")\n",
    "\n",
    "\n",
    " "
   ]
  },
  {
   "cell_type": "code",
   "execution_count": 88,
   "metadata": {},
   "outputs": [
    {
     "name": "stdout",
     "output_type": "stream",
     "text": [
      "tima,kina "
     ]
    }
   ],
   "source": [
    "a = \"anik,amit\"\n",
    "\n",
    "for i in a :\n",
    "    \n",
    "    b= \"\".join(reversed(a))\n",
    "print(b,end= \" \")"
   ]
  },
  {
   "cell_type": "code",
   "execution_count": 2,
   "metadata": {},
   "outputs": [
    {
     "name": "stdout",
     "output_type": "stream",
     "text": [
      "was I tac a ro rac a ti saw"
     ]
    }
   ],
   "source": [
    "p_phrase = \"was it a car or a cat I saw\"\n",
    "\n",
    "r = \"\".join(reversed(p_phrase))\n",
    "print(r, end= \"\")"
   ]
  },
  {
   "cell_type": "code",
   "execution_count": 27,
   "metadata": {},
   "outputs": [
    {
     "name": "stdout",
     "output_type": "stream",
     "text": [
      "['shoes', ' 12', ' 29.99']\n",
      "The store has  12 shoes, each for  29.99 USD \n",
      "['shirts', ' 20', ' 9.99']\n",
      "The store has  20 shirts, each for  9.99 USD \n",
      "['sweatpants', ' 25', ' 15.00']\n",
      "The store has  25 sweatpants, each for  15.00 USD \n",
      "['scarves', ' 13', ' 7.75']\n",
      "The store has  13 scarves, each for  7.75 USD \n"
     ]
    }
   ],
   "source": [
    "inventory = [\"shoes, 12, 29.99\", \"shirts, 20, 9.99\", \"sweatpants, 25, 15.00\", \"scarves, 13, 7.75\"]\n",
    "\n",
    "\n",
    "for i in inventory :\n",
    "    a = i.split(\",\")\n",
    "    print(a)\n",
    "    \n",
    "    no = a[1]\n",
    "    item =a[0]\n",
    "    taka = a[2]\n",
    "    \n",
    "    print(f\"The store has {no} {item}, each for {taka} USD \")\n",
    "\n",
    "    \n",
    "    "
   ]
  },
  {
   "cell_type": "code",
   "execution_count": 28,
   "metadata": {},
   "outputs": [
    {
     "name": "stdout",
     "output_type": "stream",
     "text": [
      "The store has  12 shoes, each for  29.99 USD.\n",
      "The store has  20 shirts, each for  9.99 USD.\n",
      "The store has  25 sweatpants, each for  15.00 USD.\n",
      "The store has  13 scarves, each for  7.75 USD.\n"
     ]
    }
   ],
   "source": [
    "inventory = [\"shoes, 12, 29.99\", \"shirts, 20, 9.99\", \"sweatpants, 25, 15.00\", \"scarves, 13, 7.75\"]\n",
    "\n",
    "for i in inventory :\n",
    "    a = i.split(\",\")\n",
    "    #print(a)\n",
    "    \n",
    "    no = a[1]\n",
    "    item =a[0]\n",
    "    taka = a[2]\n",
    "    \n",
    "    print(f\"The store has {no} {item}, each for {taka} USD.\")\n",
    "\n"
   ]
  },
  {
   "cell_type": "code",
   "execution_count": null,
   "metadata": {},
   "outputs": [],
   "source": []
  }
 ],
 "metadata": {
  "kernelspec": {
   "display_name": "Python 3",
   "language": "python",
   "name": "python3"
  },
  "language_info": {
   "codemirror_mode": {
    "name": "ipython",
    "version": 3
   },
   "file_extension": ".py",
   "mimetype": "text/x-python",
   "name": "python",
   "nbconvert_exporter": "python",
   "pygments_lexer": "ipython3",
   "version": "3.7.6"
  }
 },
 "nbformat": 4,
 "nbformat_minor": 4
}
