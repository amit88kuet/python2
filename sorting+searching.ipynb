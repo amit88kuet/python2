{
 "cells": [
  {
   "cell_type": "code",
   "execution_count": 4,
   "metadata": {},
   "outputs": [
    {
     "data": {
      "text/plain": [
       "[1, 2, 3, 4, 5]"
      ]
     },
     "execution_count": 4,
     "metadata": {},
     "output_type": "execute_result"
    }
   ],
   "source": [
    "# bubble sort :\n",
    "\n",
    "def bubble(a) :\n",
    "    b= len(a)-1\n",
    "    \n",
    "    for x in range(b):\n",
    "        for y in range(b-x):\n",
    "            if a[y]>a[y+1]:\n",
    "                a[y],a[y+1] = a[y+1],a[y]\n",
    "                \n",
    "    return a\n",
    "\n",
    "a= [3,5,4,1,2]\n",
    "bubble(a)"
   ]
  },
  {
   "cell_type": "code",
   "execution_count": 6,
   "metadata": {},
   "outputs": [
    {
     "name": "stdout",
     "output_type": "stream",
     "text": [
      "[1, 2, 3, 4, 6]\n"
     ]
    }
   ],
   "source": [
    "# Insertion sort :\n",
    "\n",
    "def insertion (a) :\n",
    "    \n",
    "    for x in range (1,len(a)) :\n",
    "        k= a[x]\n",
    "        j= x-1\n",
    "        \n",
    "        while j>=0 and k< a[j] :\n",
    "            a[j+1] =a[j]\n",
    "            j=j-1\n",
    "            \n",
    "        a[j+1] =k\n",
    "            \n",
    "    return a\n",
    "\n",
    "a= [3,1,6,4,2]\n",
    "insertion (a)\n",
    "\n",
    "print(a)\n",
    "            \n",
    "    "
   ]
  },
  {
   "cell_type": "code",
   "execution_count": 6,
   "metadata": {},
   "outputs": [
    {
     "name": "stdout",
     "output_type": "stream",
     "text": [
      "[1, 2, 3, 4, 5]\n"
     ]
    }
   ],
   "source": [
    "# Selection sort :\n",
    "\n",
    "def selection (a,b) :\n",
    "    for x in range (b) :\n",
    "        min =x                 # min means minimum or lowest value,1st element is minimum\n",
    "        \n",
    "        for y in range (x+1, b) :\n",
    "            if a[y]< a[min] :\n",
    "                min = y            # if condition satisfies then (x+1) will be new minimum\n",
    "                \n",
    "        a[x], a[min] = a[min], a[x]             # swap the two values under 1st for loop\n",
    "        \n",
    "a= [5,4,1,3,2]\n",
    "b = len(a)\n",
    "selection(a,b)\n",
    "\n",
    "print(a)\n",
    "        \n",
    "        "
   ]
  },
  {
   "cell_type": "code",
   "execution_count": 13,
   "metadata": {},
   "outputs": [
    {
     "name": "stdout",
     "output_type": "stream",
     "text": [
      "Value is at index no :  4\n"
     ]
    }
   ],
   "source": [
    "# Searching Algorithm : Linear Searching :\n",
    "\n",
    "def search (a,n,key) :\n",
    "    \n",
    "    for x in range (0,n) :\n",
    "        if a[x] == key :\n",
    "            return x\n",
    "        \n",
    "    return -1\n",
    "\n",
    "a = [20,30,50,40,10]\n",
    "n = len(a)\n",
    "key = 10\n",
    "\n",
    "result = search (a,n,key)\n",
    "\n",
    "if (result == -1) :\n",
    "    print(\"Value can not be found here !! \")\n",
    "    \n",
    "else :\n",
    "    print(\"Value is at index no : \",result)"
   ]
  },
  {
   "cell_type": "code",
   "execution_count": null,
   "metadata": {},
   "outputs": [],
   "source": []
  }
 ],
 "metadata": {
  "kernelspec": {
   "display_name": "Python 3",
   "language": "python",
   "name": "python3"
  },
  "language_info": {
   "codemirror_mode": {
    "name": "ipython",
    "version": 3
   },
   "file_extension": ".py",
   "mimetype": "text/x-python",
   "name": "python",
   "nbconvert_exporter": "python",
   "pygments_lexer": "ipython3",
   "version": "3.7.6"
  }
 },
 "nbformat": 4,
 "nbformat_minor": 4
}
